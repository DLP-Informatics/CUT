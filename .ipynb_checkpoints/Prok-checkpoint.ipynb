{
 "cells": [
  {
   "cell_type": "code",
   "execution_count": 91,
   "id": "bbb29f86",
   "metadata": {},
   "outputs": [],
   "source": [
    "import os\n",
    "import pandas as pd\n",
    "import json\n",
    "import threading\n",
    "import time\n",
    "import plotly.express as px\n",
    "\n",
    "from sklearn.preprocessing import StandardScaler\n",
    "import umap\n",
    "\n",
    "from Bio import Entrez, SeqIO\n",
    "from Bio.Seq import Seq\n",
    "from Bio.SeqRecord import SeqRecord\n",
    "from Bio.SeqFeature import SeqFeature, FeatureLocation"
   ]
  },
  {
   "cell_type": "code",
   "execution_count": 2,
   "id": "1049c3b1",
   "metadata": {
    "scrolled": false
   },
   "outputs": [
    {
     "data": {
      "text/html": [
       "<div>\n",
       "<style scoped>\n",
       "    .dataframe tbody tr th:only-of-type {\n",
       "        vertical-align: middle;\n",
       "    }\n",
       "\n",
       "    .dataframe tbody tr th {\n",
       "        vertical-align: top;\n",
       "    }\n",
       "\n",
       "    .dataframe thead th {\n",
       "        text-align: right;\n",
       "    }\n",
       "</style>\n",
       "<table border=\"1\" class=\"dataframe\">\n",
       "  <thead>\n",
       "    <tr style=\"text-align: right;\">\n",
       "      <th></th>\n",
       "      <th>#Organism/Name</th>\n",
       "      <th>TaxID</th>\n",
       "      <th>BioProject Accession</th>\n",
       "      <th>BioProject ID</th>\n",
       "      <th>Group</th>\n",
       "      <th>SubGroup</th>\n",
       "      <th>Size (Mb)</th>\n",
       "      <th>GC%</th>\n",
       "      <th>Replicons</th>\n",
       "      <th>WGS</th>\n",
       "      <th>...</th>\n",
       "      <th>Release Date</th>\n",
       "      <th>Modify Date</th>\n",
       "      <th>Status</th>\n",
       "      <th>Center</th>\n",
       "      <th>BioSample Accession</th>\n",
       "      <th>Assembly Accession</th>\n",
       "      <th>Reference</th>\n",
       "      <th>FTP Path</th>\n",
       "      <th>Pubmed ID</th>\n",
       "      <th>Strain</th>\n",
       "    </tr>\n",
       "  </thead>\n",
       "  <tbody>\n",
       "    <tr>\n",
       "      <th>0</th>\n",
       "      <td>Campylobacter jejuni subsp. jejuni NCTC 11168 ...</td>\n",
       "      <td>192222</td>\n",
       "      <td>PRJNA8</td>\n",
       "      <td>8</td>\n",
       "      <td>Proteobacteria</td>\n",
       "      <td>delta/epsilon subdivisions</td>\n",
       "      <td>1.64148</td>\n",
       "      <td>30.5</td>\n",
       "      <td>chromosome:NC_002163.1/AL111168.1</td>\n",
       "      <td>-</td>\n",
       "      <td>...</td>\n",
       "      <td>2001/09/27</td>\n",
       "      <td>2016/08/03</td>\n",
       "      <td>Complete Genome</td>\n",
       "      <td>Sanger Institute</td>\n",
       "      <td>SAMEA1705929</td>\n",
       "      <td>GCA_000009085.1</td>\n",
       "      <td>REFR</td>\n",
       "      <td>ftp://ftp.ncbi.nlm.nih.gov/genomes/all/GCA/000...</td>\n",
       "      <td>10688204,17565669</td>\n",
       "      <td>NCTC 11168</td>\n",
       "    </tr>\n",
       "    <tr>\n",
       "      <th>2</th>\n",
       "      <td>Xanthomonas campestris pv. raphani</td>\n",
       "      <td>359385</td>\n",
       "      <td>PRJNA641237</td>\n",
       "      <td>641237</td>\n",
       "      <td>Proteobacteria</td>\n",
       "      <td>Gammaproteobacteria</td>\n",
       "      <td>4.94204</td>\n",
       "      <td>65.3</td>\n",
       "      <td>chromosome:NZ_CP058243.1/CP058243.1</td>\n",
       "      <td>-</td>\n",
       "      <td>...</td>\n",
       "      <td>2020/07/04</td>\n",
       "      <td>2021/07/15</td>\n",
       "      <td>Complete Genome</td>\n",
       "      <td>National Agriculture and Food Research Organiz...</td>\n",
       "      <td>SAMN15347475</td>\n",
       "      <td>GCA_013388375.1</td>\n",
       "      <td>REPR</td>\n",
       "      <td>ftp://ftp.ncbi.nlm.nih.gov/genomes/all/GCA/013...</td>\n",
       "      <td>-</td>\n",
       "      <td>MAFF106181</td>\n",
       "    </tr>\n",
       "    <tr>\n",
       "      <th>3</th>\n",
       "      <td>Salmonella enterica subsp. enterica serovar Ty...</td>\n",
       "      <td>99287</td>\n",
       "      <td>PRJNA241</td>\n",
       "      <td>241</td>\n",
       "      <td>Proteobacteria</td>\n",
       "      <td>Gammaproteobacteria</td>\n",
       "      <td>4.95138</td>\n",
       "      <td>52.2171</td>\n",
       "      <td>chromosome:NC_003197.2/AE006468.2; plasmid pSL...</td>\n",
       "      <td>-</td>\n",
       "      <td>...</td>\n",
       "      <td>2001/10/26</td>\n",
       "      <td>2018/07/24</td>\n",
       "      <td>Complete Genome</td>\n",
       "      <td>Washington University Genome Sequencing Center</td>\n",
       "      <td>SAMN02604315</td>\n",
       "      <td>GCA_000006945.2</td>\n",
       "      <td>REFR</td>\n",
       "      <td>ftp://ftp.ncbi.nlm.nih.gov/genomes/all/GCA/000...</td>\n",
       "      <td>11677609</td>\n",
       "      <td>LT2</td>\n",
       "    </tr>\n",
       "    <tr>\n",
       "      <th>4</th>\n",
       "      <td>Yersinia pestis A1122</td>\n",
       "      <td>1035377</td>\n",
       "      <td>PRJNA67155</td>\n",
       "      <td>67155</td>\n",
       "      <td>Proteobacteria</td>\n",
       "      <td>Gammaproteobacteria</td>\n",
       "      <td>4.65841</td>\n",
       "      <td>47.6472</td>\n",
       "      <td>chromosome:NC_017168.1/CP002956.1; plasmid unn...</td>\n",
       "      <td>-</td>\n",
       "      <td>...</td>\n",
       "      <td>2011/08/05</td>\n",
       "      <td>2021/07/14</td>\n",
       "      <td>Complete Genome</td>\n",
       "      <td>Los Alamos National Lab</td>\n",
       "      <td>SAMN02603531</td>\n",
       "      <td>GCA_000222975.1</td>\n",
       "      <td>REPR</td>\n",
       "      <td>ftp://ftp.ncbi.nlm.nih.gov/genomes/all/GCA/000...</td>\n",
       "      <td>-</td>\n",
       "      <td>A1122</td>\n",
       "    </tr>\n",
       "    <tr>\n",
       "      <th>5</th>\n",
       "      <td>Staphylococcus aureus subsp. aureus NCTC 8325</td>\n",
       "      <td>93061</td>\n",
       "      <td>PRJNA237</td>\n",
       "      <td>237</td>\n",
       "      <td>Terrabacteria group</td>\n",
       "      <td>Firmicutes</td>\n",
       "      <td>2.82136</td>\n",
       "      <td>32.9</td>\n",
       "      <td>chromosome:NC_007795.1/CP000253.1</td>\n",
       "      <td>-</td>\n",
       "      <td>...</td>\n",
       "      <td>2006/02/13</td>\n",
       "      <td>2016/08/03</td>\n",
       "      <td>Complete Genome</td>\n",
       "      <td>University of Oklahoma Health Sciences Center</td>\n",
       "      <td>SAMN02604235</td>\n",
       "      <td>GCA_000013425.1</td>\n",
       "      <td>REFR</td>\n",
       "      <td>ftp://ftp.ncbi.nlm.nih.gov/genomes/all/GCA/000...</td>\n",
       "      <td>-</td>\n",
       "      <td>NCTC 8325</td>\n",
       "    </tr>\n",
       "  </tbody>\n",
       "</table>\n",
       "<p>5 rows × 23 columns</p>\n",
       "</div>"
      ],
      "text/plain": [
       "                                      #Organism/Name    TaxID  \\\n",
       "0  Campylobacter jejuni subsp. jejuni NCTC 11168 ...   192222   \n",
       "2                 Xanthomonas campestris pv. raphani   359385   \n",
       "3  Salmonella enterica subsp. enterica serovar Ty...    99287   \n",
       "4                              Yersinia pestis A1122  1035377   \n",
       "5      Staphylococcus aureus subsp. aureus NCTC 8325    93061   \n",
       "\n",
       "  BioProject Accession BioProject ID                Group  \\\n",
       "0               PRJNA8             8       Proteobacteria   \n",
       "2          PRJNA641237        641237       Proteobacteria   \n",
       "3             PRJNA241           241       Proteobacteria   \n",
       "4           PRJNA67155         67155       Proteobacteria   \n",
       "5             PRJNA237           237  Terrabacteria group   \n",
       "\n",
       "                     SubGroup  Size (Mb)      GC%  \\\n",
       "0  delta/epsilon subdivisions    1.64148     30.5   \n",
       "2         Gammaproteobacteria    4.94204     65.3   \n",
       "3         Gammaproteobacteria    4.95138  52.2171   \n",
       "4         Gammaproteobacteria    4.65841  47.6472   \n",
       "5                  Firmicutes    2.82136     32.9   \n",
       "\n",
       "                                           Replicons WGS  ... Release Date  \\\n",
       "0                  chromosome:NC_002163.1/AL111168.1   -  ...   2001/09/27   \n",
       "2                chromosome:NZ_CP058243.1/CP058243.1   -  ...   2020/07/04   \n",
       "3  chromosome:NC_003197.2/AE006468.2; plasmid pSL...   -  ...   2001/10/26   \n",
       "4  chromosome:NC_017168.1/CP002956.1; plasmid unn...   -  ...   2011/08/05   \n",
       "5                  chromosome:NC_007795.1/CP000253.1   -  ...   2006/02/13   \n",
       "\n",
       "  Modify Date           Status  \\\n",
       "0  2016/08/03  Complete Genome   \n",
       "2  2021/07/15  Complete Genome   \n",
       "3  2018/07/24  Complete Genome   \n",
       "4  2021/07/14  Complete Genome   \n",
       "5  2016/08/03  Complete Genome   \n",
       "\n",
       "                                              Center BioSample Accession  \\\n",
       "0                                   Sanger Institute        SAMEA1705929   \n",
       "2  National Agriculture and Food Research Organiz...        SAMN15347475   \n",
       "3     Washington University Genome Sequencing Center        SAMN02604315   \n",
       "4                            Los Alamos National Lab        SAMN02603531   \n",
       "5      University of Oklahoma Health Sciences Center        SAMN02604235   \n",
       "\n",
       "  Assembly Accession Reference  \\\n",
       "0    GCA_000009085.1      REFR   \n",
       "2    GCA_013388375.1      REPR   \n",
       "3    GCA_000006945.2      REFR   \n",
       "4    GCA_000222975.1      REPR   \n",
       "5    GCA_000013425.1      REFR   \n",
       "\n",
       "                                            FTP Path          Pubmed ID  \\\n",
       "0  ftp://ftp.ncbi.nlm.nih.gov/genomes/all/GCA/000...  10688204,17565669   \n",
       "2  ftp://ftp.ncbi.nlm.nih.gov/genomes/all/GCA/013...                  -   \n",
       "3  ftp://ftp.ncbi.nlm.nih.gov/genomes/all/GCA/000...           11677609   \n",
       "4  ftp://ftp.ncbi.nlm.nih.gov/genomes/all/GCA/000...                  -   \n",
       "5  ftp://ftp.ncbi.nlm.nih.gov/genomes/all/GCA/000...                  -   \n",
       "\n",
       "       Strain  \n",
       "0  NCTC 11168  \n",
       "2  MAFF106181  \n",
       "3         LT2  \n",
       "4       A1122  \n",
       "5   NCTC 8325  \n",
       "\n",
       "[5 rows x 23 columns]"
      ]
     },
     "execution_count": 2,
     "metadata": {},
     "output_type": "execute_result"
    }
   ],
   "source": [
    "target_url = 'https://ftp.ncbi.nlm.nih.gov/genomes/GENOME_REPORTS/prokaryotes.txt'\n",
    "ncbi_data = pd.read_csv(target_url, skiprows=0, sep='\\t', low_memory=False)\n",
    "ncbi_data = ncbi_data[ncbi_data.Status == 'Complete Genome']\n",
    "ncbi_data.head()\n",
    "# ncbi_data.to_csv('prokaryotes_ncbi_data.csv')"
   ]
  },
  {
   "cell_type": "code",
   "execution_count": 3,
   "id": "10e62682",
   "metadata": {},
   "outputs": [
    {
     "data": {
      "text/plain": [
       "['#Organism/Name',\n",
       " 'TaxID',\n",
       " 'BioProject Accession',\n",
       " 'BioProject ID',\n",
       " 'Group',\n",
       " 'SubGroup',\n",
       " 'Size (Mb)',\n",
       " 'GC%',\n",
       " 'Replicons',\n",
       " 'WGS',\n",
       " 'Scaffolds',\n",
       " 'Genes',\n",
       " 'Proteins',\n",
       " 'Release Date',\n",
       " 'Modify Date',\n",
       " 'Status',\n",
       " 'Center',\n",
       " 'BioSample Accession',\n",
       " 'Assembly Accession',\n",
       " 'Reference',\n",
       " 'FTP Path',\n",
       " 'Pubmed ID',\n",
       " 'Strain']"
      ]
     },
     "execution_count": 3,
     "metadata": {},
     "output_type": "execute_result"
    }
   ],
   "source": [
    "list(ncbi_data.columns)"
   ]
  },
  {
   "cell_type": "code",
   "execution_count": 126,
   "id": "2ae086b5",
   "metadata": {
    "scrolled": false
   },
   "outputs": [
    {
     "name": "stdout",
     "output_type": "stream",
     "text": [
      "CPU times: user 3min 26s, sys: 21.6 s, total: 3min 48s\n",
      "Wall time: 9min 29s\n"
     ]
    },
    {
     "data": {
      "text/html": [
       "<div>\n",
       "<style scoped>\n",
       "    .dataframe tbody tr th:only-of-type {\n",
       "        vertical-align: middle;\n",
       "    }\n",
       "\n",
       "    .dataframe tbody tr th {\n",
       "        vertical-align: top;\n",
       "    }\n",
       "\n",
       "    .dataframe thead th {\n",
       "        text-align: right;\n",
       "    }\n",
       "</style>\n",
       "<table border=\"1\" class=\"dataframe\">\n",
       "  <thead>\n",
       "    <tr style=\"text-align: right;\">\n",
       "      <th></th>\n",
       "      <th>Organism</th>\n",
       "      <th>Accession</th>\n",
       "      <th>SubGroup</th>\n",
       "      <th>CDS</th>\n",
       "      <th>G_Size</th>\n",
       "      <th>GC</th>\n",
       "    </tr>\n",
       "  </thead>\n",
       "  <tbody>\n",
       "    <tr>\n",
       "      <th>0</th>\n",
       "      <td>Brucella melitensis</td>\n",
       "      <td>SAMN08176517</td>\n",
       "      <td>Alphaproteobacteria</td>\n",
       "      <td>2971.0</td>\n",
       "      <td>3.31121</td>\n",
       "      <td>57.2358</td>\n",
       "    </tr>\n",
       "    <tr>\n",
       "      <th>1</th>\n",
       "      <td>Agrobacterium fabrum</td>\n",
       "      <td>SAMN17151036</td>\n",
       "      <td>Alphaproteobacteria</td>\n",
       "      <td>5186.0</td>\n",
       "      <td>5.70713</td>\n",
       "      <td>59.097</td>\n",
       "    </tr>\n",
       "    <tr>\n",
       "      <th>2</th>\n",
       "      <td>Campylobacter concisus</td>\n",
       "      <td>SAMN07160232</td>\n",
       "      <td>delta/epsilon subdivisions</td>\n",
       "      <td>1980.0</td>\n",
       "      <td>2.09524</td>\n",
       "      <td>39.2769</td>\n",
       "    </tr>\n",
       "    <tr>\n",
       "      <th>3</th>\n",
       "      <td>Actinobacillus pleuropneumoniae</td>\n",
       "      <td>SAMN20309784</td>\n",
       "      <td>Gammaproteobacteria</td>\n",
       "      <td>2064.0</td>\n",
       "      <td>2.30907</td>\n",
       "      <td>41.2</td>\n",
       "    </tr>\n",
       "    <tr>\n",
       "      <th>4</th>\n",
       "      <td>Methanosphaera sp. BMS</td>\n",
       "      <td>SAMN04445725</td>\n",
       "      <td>Methanomada group</td>\n",
       "      <td>2176.0</td>\n",
       "      <td>2.86809</td>\n",
       "      <td>32.9</td>\n",
       "    </tr>\n",
       "    <tr>\n",
       "      <th>...</th>\n",
       "      <td>...</td>\n",
       "      <td>...</td>\n",
       "      <td>...</td>\n",
       "      <td>...</td>\n",
       "      <td>...</td>\n",
       "      <td>...</td>\n",
       "    </tr>\n",
       "    <tr>\n",
       "      <th>487</th>\n",
       "      <td>Bacillus velezensis</td>\n",
       "      <td>SAMN08826799</td>\n",
       "      <td>Firmicutes</td>\n",
       "      <td>3674.0</td>\n",
       "      <td>3.92979</td>\n",
       "      <td>46.5</td>\n",
       "    </tr>\n",
       "    <tr>\n",
       "      <th>488</th>\n",
       "      <td>Thiomicrorhabdus indica</td>\n",
       "      <td>SAMN10233482</td>\n",
       "      <td>Gammaproteobacteria</td>\n",
       "      <td>2413.0</td>\n",
       "      <td>2.82988</td>\n",
       "      <td>41.6</td>\n",
       "    </tr>\n",
       "    <tr>\n",
       "      <th>489</th>\n",
       "      <td>Bacillus subtilis</td>\n",
       "      <td>SAMN16416354</td>\n",
       "      <td>Firmicutes</td>\n",
       "      <td>4148.0</td>\n",
       "      <td>4.20950</td>\n",
       "      <td>43.5</td>\n",
       "    </tr>\n",
       "    <tr>\n",
       "      <th>490</th>\n",
       "      <td>Kibdelosporangium phytohabitans</td>\n",
       "      <td>SAMN03840758</td>\n",
       "      <td>Actinobacteria</td>\n",
       "      <td>10525.0</td>\n",
       "      <td>11.75980</td>\n",
       "      <td>68.4</td>\n",
       "    </tr>\n",
       "    <tr>\n",
       "      <th>491</th>\n",
       "      <td>Pseudomonas fluorescens</td>\n",
       "      <td>SAMN04094105</td>\n",
       "      <td>Gammaproteobacteria</td>\n",
       "      <td>5773.0</td>\n",
       "      <td>6.39187</td>\n",
       "      <td>58.8</td>\n",
       "    </tr>\n",
       "  </tbody>\n",
       "</table>\n",
       "<p>492 rows × 6 columns</p>\n",
       "</div>"
      ],
      "text/plain": [
       "                            Organism     Accession  \\\n",
       "0                Brucella melitensis  SAMN08176517   \n",
       "1               Agrobacterium fabrum  SAMN17151036   \n",
       "2             Campylobacter concisus  SAMN07160232   \n",
       "3    Actinobacillus pleuropneumoniae  SAMN20309784   \n",
       "4             Methanosphaera sp. BMS  SAMN04445725   \n",
       "..                               ...           ...   \n",
       "487              Bacillus velezensis  SAMN08826799   \n",
       "488          Thiomicrorhabdus indica  SAMN10233482   \n",
       "489                Bacillus subtilis  SAMN16416354   \n",
       "490  Kibdelosporangium phytohabitans  SAMN03840758   \n",
       "491          Pseudomonas fluorescens  SAMN04094105   \n",
       "\n",
       "                       SubGroup      CDS    G_Size       GC  \n",
       "0           Alphaproteobacteria   2971.0   3.31121  57.2358  \n",
       "1           Alphaproteobacteria   5186.0   5.70713   59.097  \n",
       "2    delta/epsilon subdivisions   1980.0   2.09524  39.2769  \n",
       "3           Gammaproteobacteria   2064.0   2.30907     41.2  \n",
       "4             Methanomada group   2176.0   2.86809     32.9  \n",
       "..                          ...      ...       ...      ...  \n",
       "487                  Firmicutes   3674.0   3.92979     46.5  \n",
       "488         Gammaproteobacteria   2413.0   2.82988     41.6  \n",
       "489                  Firmicutes   4148.0   4.20950     43.5  \n",
       "490              Actinobacteria  10525.0  11.75980     68.4  \n",
       "491         Gammaproteobacteria   5773.0   6.39187     58.8  \n",
       "\n",
       "[492 rows x 6 columns]"
      ]
     },
     "execution_count": 126,
     "metadata": {},
     "output_type": "execute_result"
    }
   ],
   "source": [
    "%%time\n",
    "\n",
    "df = pd.DataFrame()\n",
    "Acc = []\n",
    "CDSP = []\n",
    "Org = []\n",
    "Sub = []\n",
    "Size = []\n",
    "GC = []\n",
    "def get_genbank(search, org, sub, size, gc):\n",
    "    accession = search\n",
    "    try:\n",
    "#         print(accession)\n",
    "        Entrez.email = \"A.N.Other@example.com\"  # Always tell NCBI who you are\n",
    "        handle = Entrez.esearch(db=\"nuccore\", term=accession)\n",
    "#         print(handle)\n",
    "        record = Entrez.read(handle)\n",
    "#         print(record)\n",
    "        gi_list = record[\"IdList\"]\n",
    "#         print(gi_list)\n",
    "        handle = Entrez.efetch(db=\"nuccore\", id=gi_list, retmode='gb',  rettype=\"gbwithparts\")#gbwithparts\n",
    "#         print(handle)\n",
    "        genome_record = next(SeqIO.parse(handle, 'genbank'))\n",
    "#         print(genome_record.annotations)\n",
    "        x = pd.json_normalize(genome_record.annotations)\n",
    "# #         print(x)\n",
    "        c = x['structured_comment.Genome-Annotation-Data.Genes (coding)'].values[0]\n",
    "#         print(c)\n",
    "        Acc.append(accession)\n",
    "        Org.append(org)\n",
    "        Sub.append(sub)\n",
    "        Size.append(size)\n",
    "        CDSP.append(c)\n",
    "        GC.append(gc)\n",
    "    except Exception:\n",
    "        pass\n",
    "\n",
    "coList = list(ncbi_data.columns)\n",
    "query = ncbi_data[coList].sample(n=500)\n",
    "acc_id, org, sub, size, gc = list(query['BioSample Accession']), list(query['#Organism/Name']), list(query['SubGroup']), list(query['Size (Mb)']), list(query['GC%']) #list(query[''])\n",
    "\n",
    "# for i,j in enumerate(acc_id):\n",
    "#     get_genbank(acc_id[i], org[i], sub[i])\n",
    "\n",
    "threads = [threading.Thread(target=get_genbank, args=(acc_id[i], org[i], sub[i], size[i], gc[i])) for i,j in enumerate(acc_id)]\n",
    "threads\n",
    "for thread in threads:\n",
    "    thread.start()\n",
    "    time.sleep(1)\n",
    "for thread in threads:\n",
    "    thread.join()\n",
    "    \n",
    "df['Organism'] = Org\n",
    "df['Accession'] = Acc\n",
    "df['SubGroup'] = Sub\n",
    "df['CDS'] = CDSP\n",
    "df['G_Size'] = Size\n",
    "df['GC'] = GC\n",
    "df.CDS = df.CDS.str.replace(',', '').astype(float)\n",
    "df"
   ]
  },
  {
   "cell_type": "code",
   "execution_count": 131,
   "id": "b52f7550",
   "metadata": {},
   "outputs": [
    {
     "data": {
      "application/vnd.plotly.v1+json": {
       "config": {
        "plotlyServerURL": "https://plot.ly"
       },
       "data": [
        {
         "alignmentgroup": "True",
         "hovertemplate": "SubGroup=%{x}<br>CDS=%{y}<extra></extra>",
         "legendgroup": "Alphaproteobacteria",
         "marker": {
          "color": "#636efa"
         },
         "name": "Alphaproteobacteria",
         "notched": false,
         "offsetgroup": "Alphaproteobacteria",
         "orientation": "v",
         "showlegend": true,
         "type": "box",
         "x": [
          "Alphaproteobacteria",
          "Alphaproteobacteria",
          "Alphaproteobacteria",
          "Alphaproteobacteria",
          "Alphaproteobacteria",
          "Alphaproteobacteria",
          "Alphaproteobacteria",
          "Alphaproteobacteria",
          "Alphaproteobacteria",
          "Alphaproteobacteria",
          "Alphaproteobacteria",
          "Alphaproteobacteria",
          "Alphaproteobacteria",
          "Alphaproteobacteria",
          "Alphaproteobacteria",
          "Alphaproteobacteria",
          "Alphaproteobacteria",
          "Alphaproteobacteria",
          "Alphaproteobacteria",
          "Alphaproteobacteria",
          "Alphaproteobacteria",
          "Alphaproteobacteria",
          "Alphaproteobacteria",
          "Alphaproteobacteria",
          "Alphaproteobacteria",
          "Alphaproteobacteria",
          "Alphaproteobacteria",
          "Alphaproteobacteria",
          "Alphaproteobacteria",
          "Alphaproteobacteria",
          "Alphaproteobacteria"
         ],
         "x0": " ",
         "xaxis": "x",
         "y": [
          2971,
          5186,
          1,
          6809,
          2913,
          2928,
          5210,
          831,
          6478,
          1226,
          6232,
          6770,
          1133,
          4451,
          909,
          2691,
          4311,
          4693,
          895,
          4031,
          4096,
          4041,
          1299,
          5492,
          6337,
          4715,
          6738,
          4721,
          7123,
          3157,
          7558
         ],
         "y0": " ",
         "yaxis": "y"
        },
        {
         "alignmentgroup": "True",
         "hovertemplate": "SubGroup=%{x}<br>CDS=%{y}<extra></extra>",
         "legendgroup": "delta/epsilon subdivisions",
         "marker": {
          "color": "#EF553B"
         },
         "name": "delta/epsilon subdivisions",
         "notched": false,
         "offsetgroup": "delta/epsilon subdivisions",
         "orientation": "v",
         "showlegend": true,
         "type": "box",
         "x": [
          "delta/epsilon subdivisions",
          "delta/epsilon subdivisions",
          "delta/epsilon subdivisions",
          "delta/epsilon subdivisions",
          "delta/epsilon subdivisions",
          "delta/epsilon subdivisions",
          "delta/epsilon subdivisions",
          "delta/epsilon subdivisions",
          "delta/epsilon subdivisions",
          "delta/epsilon subdivisions",
          "delta/epsilon subdivisions",
          "delta/epsilon subdivisions",
          "delta/epsilon subdivisions",
          "delta/epsilon subdivisions",
          "delta/epsilon subdivisions",
          "delta/epsilon subdivisions",
          "delta/epsilon subdivisions",
          "delta/epsilon subdivisions",
          "delta/epsilon subdivisions",
          "delta/epsilon subdivisions"
         ],
         "x0": " ",
         "xaxis": "x",
         "y": [
          1980,
          1440,
          1386,
          1751,
          1709,
          1883,
          7166,
          1448,
          1483,
          4135,
          1706,
          1641,
          1561,
          1423,
          1599,
          2380,
          1918,
          1758,
          1405,
          2465
         ],
         "y0": " ",
         "yaxis": "y"
        },
        {
         "alignmentgroup": "True",
         "hovertemplate": "SubGroup=%{x}<br>CDS=%{y}<extra></extra>",
         "legendgroup": "Gammaproteobacteria",
         "marker": {
          "color": "#00cc96"
         },
         "name": "Gammaproteobacteria",
         "notched": false,
         "offsetgroup": "Gammaproteobacteria",
         "orientation": "v",
         "showlegend": true,
         "type": "box",
         "x": [
          "Gammaproteobacteria",
          "Gammaproteobacteria",
          "Gammaproteobacteria",
          "Gammaproteobacteria",
          "Gammaproteobacteria",
          "Gammaproteobacteria",
          "Gammaproteobacteria",
          "Gammaproteobacteria",
          "Gammaproteobacteria",
          "Gammaproteobacteria",
          "Gammaproteobacteria",
          "Gammaproteobacteria",
          "Gammaproteobacteria",
          "Gammaproteobacteria",
          "Gammaproteobacteria",
          "Gammaproteobacteria",
          "Gammaproteobacteria",
          "Gammaproteobacteria",
          "Gammaproteobacteria",
          "Gammaproteobacteria",
          "Gammaproteobacteria",
          "Gammaproteobacteria",
          "Gammaproteobacteria",
          "Gammaproteobacteria",
          "Gammaproteobacteria",
          "Gammaproteobacteria",
          "Gammaproteobacteria",
          "Gammaproteobacteria",
          "Gammaproteobacteria",
          "Gammaproteobacteria",
          "Gammaproteobacteria",
          "Gammaproteobacteria",
          "Gammaproteobacteria",
          "Gammaproteobacteria",
          "Gammaproteobacteria",
          "Gammaproteobacteria",
          "Gammaproteobacteria",
          "Gammaproteobacteria",
          "Gammaproteobacteria",
          "Gammaproteobacteria",
          "Gammaproteobacteria",
          "Gammaproteobacteria",
          "Gammaproteobacteria",
          "Gammaproteobacteria",
          "Gammaproteobacteria",
          "Gammaproteobacteria",
          "Gammaproteobacteria",
          "Gammaproteobacteria",
          "Gammaproteobacteria",
          "Gammaproteobacteria",
          "Gammaproteobacteria",
          "Gammaproteobacteria",
          "Gammaproteobacteria",
          "Gammaproteobacteria",
          "Gammaproteobacteria",
          "Gammaproteobacteria",
          "Gammaproteobacteria",
          "Gammaproteobacteria",
          "Gammaproteobacteria",
          "Gammaproteobacteria",
          "Gammaproteobacteria",
          "Gammaproteobacteria",
          "Gammaproteobacteria",
          "Gammaproteobacteria",
          "Gammaproteobacteria",
          "Gammaproteobacteria",
          "Gammaproteobacteria",
          "Gammaproteobacteria",
          "Gammaproteobacteria",
          "Gammaproteobacteria",
          "Gammaproteobacteria",
          "Gammaproteobacteria",
          "Gammaproteobacteria",
          "Gammaproteobacteria",
          "Gammaproteobacteria",
          "Gammaproteobacteria",
          "Gammaproteobacteria",
          "Gammaproteobacteria",
          "Gammaproteobacteria",
          "Gammaproteobacteria",
          "Gammaproteobacteria",
          "Gammaproteobacteria",
          "Gammaproteobacteria",
          "Gammaproteobacteria",
          "Gammaproteobacteria",
          "Gammaproteobacteria",
          "Gammaproteobacteria",
          "Gammaproteobacteria",
          "Gammaproteobacteria",
          "Gammaproteobacteria",
          "Gammaproteobacteria",
          "Gammaproteobacteria",
          "Gammaproteobacteria",
          "Gammaproteobacteria",
          "Gammaproteobacteria",
          "Gammaproteobacteria",
          "Gammaproteobacteria",
          "Gammaproteobacteria",
          "Gammaproteobacteria",
          "Gammaproteobacteria",
          "Gammaproteobacteria",
          "Gammaproteobacteria",
          "Gammaproteobacteria",
          "Gammaproteobacteria",
          "Gammaproteobacteria",
          "Gammaproteobacteria",
          "Gammaproteobacteria",
          "Gammaproteobacteria",
          "Gammaproteobacteria",
          "Gammaproteobacteria",
          "Gammaproteobacteria",
          "Gammaproteobacteria",
          "Gammaproteobacteria",
          "Gammaproteobacteria",
          "Gammaproteobacteria",
          "Gammaproteobacteria",
          "Gammaproteobacteria",
          "Gammaproteobacteria",
          "Gammaproteobacteria",
          "Gammaproteobacteria",
          "Gammaproteobacteria",
          "Gammaproteobacteria",
          "Gammaproteobacteria",
          "Gammaproteobacteria",
          "Gammaproteobacteria",
          "Gammaproteobacteria",
          "Gammaproteobacteria",
          "Gammaproteobacteria",
          "Gammaproteobacteria",
          "Gammaproteobacteria",
          "Gammaproteobacteria",
          "Gammaproteobacteria",
          "Gammaproteobacteria",
          "Gammaproteobacteria",
          "Gammaproteobacteria",
          "Gammaproteobacteria",
          "Gammaproteobacteria",
          "Gammaproteobacteria",
          "Gammaproteobacteria",
          "Gammaproteobacteria",
          "Gammaproteobacteria",
          "Gammaproteobacteria",
          "Gammaproteobacteria",
          "Gammaproteobacteria",
          "Gammaproteobacteria",
          "Gammaproteobacteria",
          "Gammaproteobacteria",
          "Gammaproteobacteria",
          "Gammaproteobacteria",
          "Gammaproteobacteria",
          "Gammaproteobacteria"
         ],
         "x0": " ",
         "xaxis": "x",
         "y": [
          2064,
          4288,
          4735,
          4196,
          377,
          5487,
          6115,
          4196,
          5023,
          4255,
          3750,
          4206,
          5990,
          4379,
          2010,
          1882,
          4198,
          5728,
          5896,
          3257,
          5456,
          4511,
          3725,
          6363,
          4169,
          3827,
          3753,
          4346,
          4043,
          1561,
          5353,
          1817,
          4689,
          4382,
          5156,
          1791,
          5558,
          4207,
          6246,
          1466,
          211,
          593,
          5423,
          3534,
          4732,
          1458,
          1746,
          5171,
          3309,
          3290,
          3970,
          6355,
          5517,
          4154,
          6838,
          6255,
          6372,
          5107,
          3217,
          4084,
          6387,
          3904,
          5085,
          4089,
          4130,
          5234,
          4312,
          4968,
          3297,
          4523,
          3394,
          4806,
          2725,
          6126,
          2133,
          1685,
          2306,
          3559,
          4895,
          245,
          2081,
          5665,
          4678,
          5113,
          3027,
          5128,
          3839,
          4176,
          2108,
          1940,
          3737,
          1819,
          3511,
          4060,
          5083,
          4340,
          4266,
          4930,
          3062,
          5306,
          4047,
          3573,
          4373,
          2235,
          6266,
          5152,
          3353,
          4738,
          5494,
          2957,
          5606,
          5189,
          3035,
          2012,
          2169,
          4548,
          5479,
          3709,
          3704,
          1984,
          3799,
          2869,
          3062,
          4515,
          3970,
          5079,
          4634,
          5176,
          3165,
          5455,
          6309,
          5038,
          5067,
          5680,
          4478,
          4494,
          4760,
          4245,
          4806,
          4516,
          4766,
          4016,
          5786,
          4199,
          3489,
          3716,
          4191,
          2973,
          3963,
          2413,
          5773
         ],
         "y0": " ",
         "yaxis": "y"
        },
        {
         "alignmentgroup": "True",
         "hovertemplate": "SubGroup=%{x}<br>CDS=%{y}<extra></extra>",
         "legendgroup": "Methanomada group",
         "marker": {
          "color": "#ab63fa"
         },
         "name": "Methanomada group",
         "notched": false,
         "offsetgroup": "Methanomada group",
         "orientation": "v",
         "showlegend": true,
         "type": "box",
         "x": [
          "Methanomada group"
         ],
         "x0": " ",
         "xaxis": "x",
         "y": [
          2176
         ],
         "y0": " ",
         "yaxis": "y"
        },
        {
         "alignmentgroup": "True",
         "hovertemplate": "SubGroup=%{x}<br>CDS=%{y}<extra></extra>",
         "legendgroup": "Betaproteobacteria",
         "marker": {
          "color": "#FFA15A"
         },
         "name": "Betaproteobacteria",
         "notched": false,
         "offsetgroup": "Betaproteobacteria",
         "orientation": "v",
         "showlegend": true,
         "type": "box",
         "x": [
          "Betaproteobacteria",
          "Betaproteobacteria",
          "Betaproteobacteria",
          "Betaproteobacteria",
          "Betaproteobacteria",
          "Betaproteobacteria",
          "Betaproteobacteria",
          "Betaproteobacteria",
          "Betaproteobacteria",
          "Betaproteobacteria",
          "Betaproteobacteria",
          "Betaproteobacteria",
          "Betaproteobacteria",
          "Betaproteobacteria",
          "Betaproteobacteria",
          "Betaproteobacteria",
          "Betaproteobacteria",
          "Betaproteobacteria",
          "Betaproteobacteria",
          "Betaproteobacteria",
          "Betaproteobacteria",
          "Betaproteobacteria",
          "Betaproteobacteria",
          "Betaproteobacteria",
          "Betaproteobacteria",
          "Betaproteobacteria",
          "Betaproteobacteria",
          "Betaproteobacteria",
          "Betaproteobacteria",
          "Betaproteobacteria",
          "Betaproteobacteria",
          "Betaproteobacteria",
          "Betaproteobacteria",
          "Betaproteobacteria",
          "Betaproteobacteria",
          "Betaproteobacteria",
          "Betaproteobacteria",
          "Betaproteobacteria",
          "Betaproteobacteria",
          "Betaproteobacteria",
          "Betaproteobacteria",
          "Betaproteobacteria",
          "Betaproteobacteria"
         ],
         "x0": " ",
         "xaxis": "x",
         "y": [
          1556,
          4338,
          2033,
          4706,
          3603,
          3638,
          6140,
          7114,
          4445,
          4242,
          3541,
          2023,
          4242,
          3846,
          1700,
          2785,
          6129,
          6053,
          2036,
          5930,
          7281,
          5983,
          4643,
          6506,
          3555,
          6638,
          1488,
          2088,
          2756,
          5932,
          1961,
          3792,
          5972,
          5428,
          2011,
          5340,
          4794,
          2100,
          813,
          3768,
          4924,
          6100,
          3618
         ],
         "y0": " ",
         "yaxis": "y"
        },
        {
         "alignmentgroup": "True",
         "hovertemplate": "SubGroup=%{x}<br>CDS=%{y}<extra></extra>",
         "legendgroup": "Firmicutes",
         "marker": {
          "color": "#19d3f3"
         },
         "name": "Firmicutes",
         "notched": false,
         "offsetgroup": "Firmicutes",
         "orientation": "v",
         "showlegend": true,
         "type": "box",
         "x": [
          "Firmicutes",
          "Firmicutes",
          "Firmicutes",
          "Firmicutes",
          "Firmicutes",
          "Firmicutes",
          "Firmicutes",
          "Firmicutes",
          "Firmicutes",
          "Firmicutes",
          "Firmicutes",
          "Firmicutes",
          "Firmicutes",
          "Firmicutes",
          "Firmicutes",
          "Firmicutes",
          "Firmicutes",
          "Firmicutes",
          "Firmicutes",
          "Firmicutes",
          "Firmicutes",
          "Firmicutes",
          "Firmicutes",
          "Firmicutes",
          "Firmicutes",
          "Firmicutes",
          "Firmicutes",
          "Firmicutes",
          "Firmicutes",
          "Firmicutes",
          "Firmicutes",
          "Firmicutes",
          "Firmicutes",
          "Firmicutes",
          "Firmicutes",
          "Firmicutes",
          "Firmicutes",
          "Firmicutes",
          "Firmicutes",
          "Firmicutes",
          "Firmicutes",
          "Firmicutes",
          "Firmicutes",
          "Firmicutes",
          "Firmicutes",
          "Firmicutes",
          "Firmicutes",
          "Firmicutes",
          "Firmicutes",
          "Firmicutes",
          "Firmicutes",
          "Firmicutes",
          "Firmicutes",
          "Firmicutes",
          "Firmicutes",
          "Firmicutes",
          "Firmicutes",
          "Firmicutes",
          "Firmicutes",
          "Firmicutes",
          "Firmicutes",
          "Firmicutes",
          "Firmicutes",
          "Firmicutes",
          "Firmicutes",
          "Firmicutes",
          "Firmicutes",
          "Firmicutes",
          "Firmicutes",
          "Firmicutes",
          "Firmicutes",
          "Firmicutes",
          "Firmicutes",
          "Firmicutes",
          "Firmicutes",
          "Firmicutes",
          "Firmicutes",
          "Firmicutes",
          "Firmicutes",
          "Firmicutes",
          "Firmicutes",
          "Firmicutes",
          "Firmicutes",
          "Firmicutes",
          "Firmicutes",
          "Firmicutes",
          "Firmicutes",
          "Firmicutes",
          "Firmicutes",
          "Firmicutes",
          "Firmicutes",
          "Firmicutes",
          "Firmicutes",
          "Firmicutes",
          "Firmicutes",
          "Firmicutes",
          "Firmicutes",
          "Firmicutes",
          "Firmicutes",
          "Firmicutes",
          "Firmicutes",
          "Firmicutes",
          "Firmicutes",
          "Firmicutes",
          "Firmicutes",
          "Firmicutes",
          "Firmicutes",
          "Firmicutes",
          "Firmicutes",
          "Firmicutes",
          "Firmicutes",
          "Firmicutes",
          "Firmicutes",
          "Firmicutes",
          "Firmicutes",
          "Firmicutes",
          "Firmicutes",
          "Firmicutes",
          "Firmicutes",
          "Firmicutes",
          "Firmicutes",
          "Firmicutes",
          "Firmicutes",
          "Firmicutes",
          "Firmicutes",
          "Firmicutes",
          "Firmicutes",
          "Firmicutes",
          "Firmicutes",
          "Firmicutes",
          "Firmicutes",
          "Firmicutes",
          "Firmicutes",
          "Firmicutes",
          "Firmicutes",
          "Firmicutes",
          "Firmicutes",
          "Firmicutes",
          "Firmicutes"
         ],
         "x0": " ",
         "xaxis": "x",
         "y": [
          1925,
          2825,
          2494,
          2474,
          3675,
          2749,
          3008,
          3558,
          1678,
          2950,
          2701,
          3203,
          3831,
          1999,
          2773,
          2749,
          2151,
          2785,
          5092,
          2553,
          2737,
          1656,
          3070,
          2940,
          1883,
          3010,
          2785,
          2730,
          3124,
          2582,
          1887,
          1916,
          2060,
          5454,
          2259,
          2989,
          1892,
          5027,
          2716,
          4038,
          1772,
          1941,
          1798,
          3707,
          1834,
          1961,
          2020,
          1919,
          2398,
          1931,
          1955,
          3475,
          2274,
          2222,
          1576,
          2016,
          3559,
          2418,
          4583,
          4946,
          1592,
          3758,
          1878,
          2939,
          1773,
          3106,
          3679,
          2766,
          3517,
          3687,
          1696,
          2452,
          2730,
          5229,
          2147,
          1614,
          1725,
          4477,
          1668,
          4154,
          3835,
          3659,
          3980,
          2249,
          3421,
          2961,
          3910,
          2450,
          2737,
          2137,
          1888,
          3352,
          2259,
          3384,
          1803,
          2620,
          3505,
          3697,
          4468,
          3219,
          2318,
          2730,
          3422,
          1601,
          2881,
          4045,
          3044,
          2959,
          3083,
          4127,
          2005,
          1744,
          4486,
          2555,
          3032,
          3672,
          2840,
          1394,
          1979,
          1907,
          1996,
          4247,
          4801,
          2491,
          2938,
          2206,
          2805,
          2827,
          1844,
          2909,
          4913,
          2357,
          2432,
          2508,
          2329,
          3950,
          1746,
          3674,
          4148
         ],
         "y0": " ",
         "yaxis": "y"
        },
        {
         "alignmentgroup": "True",
         "hovertemplate": "SubGroup=%{x}<br>CDS=%{y}<extra></extra>",
         "legendgroup": "Actinobacteria",
         "marker": {
          "color": "#FF6692"
         },
         "name": "Actinobacteria",
         "notched": false,
         "offsetgroup": "Actinobacteria",
         "orientation": "v",
         "showlegend": true,
         "type": "box",
         "x": [
          "Actinobacteria",
          "Actinobacteria",
          "Actinobacteria",
          "Actinobacteria",
          "Actinobacteria",
          "Actinobacteria",
          "Actinobacteria",
          "Actinobacteria",
          "Actinobacteria",
          "Actinobacteria",
          "Actinobacteria",
          "Actinobacteria",
          "Actinobacteria",
          "Actinobacteria",
          "Actinobacteria",
          "Actinobacteria",
          "Actinobacteria",
          "Actinobacteria",
          "Actinobacteria",
          "Actinobacteria",
          "Actinobacteria",
          "Actinobacteria",
          "Actinobacteria",
          "Actinobacteria",
          "Actinobacteria",
          "Actinobacteria",
          "Actinobacteria",
          "Actinobacteria",
          "Actinobacteria",
          "Actinobacteria",
          "Actinobacteria",
          "Actinobacteria",
          "Actinobacteria",
          "Actinobacteria",
          "Actinobacteria",
          "Actinobacteria",
          "Actinobacteria",
          "Actinobacteria",
          "Actinobacteria",
          "Actinobacteria",
          "Actinobacteria",
          "Actinobacteria",
          "Actinobacteria",
          "Actinobacteria"
         ],
         "x0": " ",
         "xaxis": "x",
         "y": [
          6405,
          3823,
          3089,
          2445,
          7345,
          3901,
          3791,
          3418,
          2364,
          3134,
          5598,
          2379,
          3248,
          4974,
          2962,
          3638,
          2210,
          3889,
          2302,
          4019,
          4090,
          5200,
          4768,
          1822,
          3894,
          2331,
          3534,
          3180,
          5511,
          5167,
          5108,
          3343,
          6819,
          3501,
          5034,
          6964,
          5327,
          2049,
          2887,
          2401,
          1841,
          1742,
          2061,
          10525
         ],
         "y0": " ",
         "yaxis": "y"
        },
        {
         "alignmentgroup": "True",
         "hovertemplate": "SubGroup=%{x}<br>CDS=%{y}<extra></extra>",
         "legendgroup": "Bacteroidetes/Chlorobi group",
         "marker": {
          "color": "#B6E880"
         },
         "name": "Bacteroidetes/Chlorobi group",
         "notched": false,
         "offsetgroup": "Bacteroidetes/Chlorobi group",
         "orientation": "v",
         "showlegend": true,
         "type": "box",
         "x": [
          "Bacteroidetes/Chlorobi group",
          "Bacteroidetes/Chlorobi group",
          "Bacteroidetes/Chlorobi group",
          "Bacteroidetes/Chlorobi group",
          "Bacteroidetes/Chlorobi group",
          "Bacteroidetes/Chlorobi group",
          "Bacteroidetes/Chlorobi group",
          "Bacteroidetes/Chlorobi group",
          "Bacteroidetes/Chlorobi group",
          "Bacteroidetes/Chlorobi group",
          "Bacteroidetes/Chlorobi group",
          "Bacteroidetes/Chlorobi group",
          "Bacteroidetes/Chlorobi group",
          "Bacteroidetes/Chlorobi group",
          "Bacteroidetes/Chlorobi group",
          "Bacteroidetes/Chlorobi group",
          "Bacteroidetes/Chlorobi group"
         ],
         "x0": " ",
         "xaxis": "x",
         "y": [
          588,
          2137,
          2415,
          5297,
          5114,
          2303,
          5045,
          4257,
          3714,
          3509,
          1910,
          4239,
          3436,
          4252,
          3538,
          2647,
          2542
         ],
         "y0": " ",
         "yaxis": "y"
        },
        {
         "alignmentgroup": "True",
         "hovertemplate": "SubGroup=%{x}<br>CDS=%{y}<extra></extra>",
         "legendgroup": "Deinococcus-Thermus",
         "marker": {
          "color": "#FF97FF"
         },
         "name": "Deinococcus-Thermus",
         "notched": false,
         "offsetgroup": "Deinococcus-Thermus",
         "orientation": "v",
         "showlegend": true,
         "type": "box",
         "x": [
          "Deinococcus-Thermus",
          "Deinococcus-Thermus"
         ],
         "x0": " ",
         "xaxis": "x",
         "y": [
          2984,
          3217
         ],
         "y0": " ",
         "yaxis": "y"
        },
        {
         "alignmentgroup": "True",
         "hovertemplate": "SubGroup=%{x}<br>CDS=%{y}<extra></extra>",
         "legendgroup": "Chlamydiae",
         "marker": {
          "color": "#FECB52"
         },
         "name": "Chlamydiae",
         "notched": false,
         "offsetgroup": "Chlamydiae",
         "orientation": "v",
         "showlegend": true,
         "type": "box",
         "x": [
          "Chlamydiae",
          "Chlamydiae",
          "Chlamydiae",
          "Chlamydiae",
          "Chlamydiae"
         ],
         "x0": " ",
         "xaxis": "x",
         "y": [
          884,
          878,
          989,
          886,
          893
         ],
         "y0": " ",
         "yaxis": "y"
        },
        {
         "alignmentgroup": "True",
         "hovertemplate": "SubGroup=%{x}<br>CDS=%{y}<extra></extra>",
         "legendgroup": "Tenericutes",
         "marker": {
          "color": "#636efa"
         },
         "name": "Tenericutes",
         "notched": false,
         "offsetgroup": "Tenericutes",
         "orientation": "v",
         "showlegend": true,
         "type": "box",
         "x": [
          "Tenericutes",
          "Tenericutes",
          "Tenericutes",
          "Tenericutes",
          "Tenericutes",
          "Tenericutes",
          "Tenericutes",
          "Tenericutes",
          "Tenericutes",
          "Tenericutes"
         ],
         "x0": " ",
         "xaxis": "x",
         "y": [
          674,
          691,
          1271,
          524,
          573,
          835,
          729,
          925,
          749,
          588
         ],
         "y0": " ",
         "yaxis": "y"
        },
        {
         "alignmentgroup": "True",
         "hovertemplate": "SubGroup=%{x}<br>CDS=%{y}<extra></extra>",
         "legendgroup": "Chloroflexi",
         "marker": {
          "color": "#EF553B"
         },
         "name": "Chloroflexi",
         "notched": false,
         "offsetgroup": "Chloroflexi",
         "orientation": "v",
         "showlegend": true,
         "type": "box",
         "x": [
          "Chloroflexi"
         ],
         "x0": " ",
         "xaxis": "x",
         "y": [
          1399
         ],
         "y0": " ",
         "yaxis": "y"
        },
        {
         "alignmentgroup": "True",
         "hovertemplate": "SubGroup=%{x}<br>CDS=%{y}<extra></extra>",
         "legendgroup": "Caldiserica",
         "marker": {
          "color": "#00cc96"
         },
         "name": "Caldiserica",
         "notched": false,
         "offsetgroup": "Caldiserica",
         "orientation": "v",
         "showlegend": true,
         "type": "box",
         "x": [
          "Caldiserica"
         ],
         "x0": " ",
         "xaxis": "x",
         "y": [
          1502
         ],
         "y0": " ",
         "yaxis": "y"
        },
        {
         "alignmentgroup": "True",
         "hovertemplate": "SubGroup=%{x}<br>CDS=%{y}<extra></extra>",
         "legendgroup": "Stenosarchaea group",
         "marker": {
          "color": "#ab63fa"
         },
         "name": "Stenosarchaea group",
         "notched": false,
         "offsetgroup": "Stenosarchaea group",
         "orientation": "v",
         "showlegend": true,
         "type": "box",
         "x": [
          "Stenosarchaea group",
          "Stenosarchaea group",
          "Stenosarchaea group",
          "Stenosarchaea group",
          "Stenosarchaea group",
          "Stenosarchaea group",
          "Stenosarchaea group",
          "Stenosarchaea group",
          "Stenosarchaea group"
         ],
         "x0": " ",
         "xaxis": "x",
         "y": [
          4452,
          3690,
          2590,
          3660,
          3712,
          2012,
          3645,
          4102,
          1743
         ],
         "y0": " ",
         "yaxis": "y"
        },
        {
         "alignmentgroup": "True",
         "hovertemplate": "SubGroup=%{x}<br>CDS=%{y}<extra></extra>",
         "legendgroup": "Synergistia",
         "marker": {
          "color": "#FFA15A"
         },
         "name": "Synergistia",
         "notched": false,
         "offsetgroup": "Synergistia",
         "orientation": "v",
         "showlegend": true,
         "type": "box",
         "x": [
          "Synergistia"
         ],
         "x0": " ",
         "xaxis": "x",
         "y": [
          1758
         ],
         "y0": " ",
         "yaxis": "y"
        },
        {
         "alignmentgroup": "True",
         "hovertemplate": "SubGroup=%{x}<br>CDS=%{y}<extra></extra>",
         "legendgroup": "Deferribacteres",
         "marker": {
          "color": "#19d3f3"
         },
         "name": "Deferribacteres",
         "notched": false,
         "offsetgroup": "Deferribacteres",
         "orientation": "v",
         "showlegend": true,
         "type": "box",
         "x": [
          "Deferribacteres"
         ],
         "x0": " ",
         "xaxis": "x",
         "y": [
          2117
         ],
         "y0": " ",
         "yaxis": "y"
        },
        {
         "alignmentgroup": "True",
         "hovertemplate": "SubGroup=%{x}<br>CDS=%{y}<extra></extra>",
         "legendgroup": "Fusobacteriia",
         "marker": {
          "color": "#FF6692"
         },
         "name": "Fusobacteriia",
         "notched": false,
         "offsetgroup": "Fusobacteriia",
         "orientation": "v",
         "showlegend": true,
         "type": "box",
         "x": [
          "Fusobacteriia"
         ],
         "x0": " ",
         "xaxis": "x",
         "y": [
          2002
         ],
         "y0": " ",
         "yaxis": "y"
        },
        {
         "alignmentgroup": "True",
         "hovertemplate": "SubGroup=%{x}<br>CDS=%{y}<extra></extra>",
         "legendgroup": "Thaumarchaeota",
         "marker": {
          "color": "#B6E880"
         },
         "name": "Thaumarchaeota",
         "notched": false,
         "offsetgroup": "Thaumarchaeota",
         "orientation": "v",
         "showlegend": true,
         "type": "box",
         "x": [
          "Thaumarchaeota"
         ],
         "x0": " ",
         "xaxis": "x",
         "y": [
          1907
         ],
         "y0": " ",
         "yaxis": "y"
        },
        {
         "alignmentgroup": "True",
         "hovertemplate": "SubGroup=%{x}<br>CDS=%{y}<extra></extra>",
         "legendgroup": "Bacteria candidate phyla",
         "marker": {
          "color": "#FF97FF"
         },
         "name": "Bacteria candidate phyla",
         "notched": false,
         "offsetgroup": "Bacteria candidate phyla",
         "orientation": "v",
         "showlegend": true,
         "type": "box",
         "x": [
          "Bacteria candidate phyla",
          "Bacteria candidate phyla"
         ],
         "x0": " ",
         "xaxis": "x",
         "y": [
          842,
          1185
         ],
         "y0": " ",
         "yaxis": "y"
        },
        {
         "alignmentgroup": "True",
         "hovertemplate": "SubGroup=%{x}<br>CDS=%{y}<extra></extra>",
         "legendgroup": "Thermococci",
         "marker": {
          "color": "#FECB52"
         },
         "name": "Thermococci",
         "notched": false,
         "offsetgroup": "Thermococci",
         "orientation": "v",
         "showlegend": true,
         "type": "box",
         "x": [
          "Thermococci"
         ],
         "x0": " ",
         "xaxis": "x",
         "y": [
          2038
         ],
         "y0": " ",
         "yaxis": "y"
        },
        {
         "alignmentgroup": "True",
         "hovertemplate": "SubGroup=%{x}<br>CDS=%{y}<extra></extra>",
         "legendgroup": "Cyanobacteria/Melainabacteria group",
         "marker": {
          "color": "#636efa"
         },
         "name": "Cyanobacteria/Melainabacteria group",
         "notched": false,
         "offsetgroup": "Cyanobacteria/Melainabacteria group",
         "orientation": "v",
         "showlegend": true,
         "type": "box",
         "x": [
          "Cyanobacteria/Melainabacteria group",
          "Cyanobacteria/Melainabacteria group"
         ],
         "x0": " ",
         "xaxis": "x",
         "y": [
          3461,
          6102
         ],
         "y0": " ",
         "yaxis": "y"
        },
        {
         "alignmentgroup": "True",
         "hovertemplate": "SubGroup=%{x}<br>CDS=%{y}<extra></extra>",
         "legendgroup": "Verrucomicrobia",
         "marker": {
          "color": "#EF553B"
         },
         "name": "Verrucomicrobia",
         "notched": false,
         "offsetgroup": "Verrucomicrobia",
         "orientation": "v",
         "showlegend": true,
         "type": "box",
         "x": [
          "Verrucomicrobia",
          "Verrucomicrobia"
         ],
         "x0": " ",
         "xaxis": "x",
         "y": [
          2538,
          2263
         ],
         "y0": " ",
         "yaxis": "y"
        },
        {
         "alignmentgroup": "True",
         "hovertemplate": "SubGroup=%{x}<br>CDS=%{y}<extra></extra>",
         "legendgroup": "Spirochaetia",
         "marker": {
          "color": "#00cc96"
         },
         "name": "Spirochaetia",
         "notched": false,
         "offsetgroup": "Spirochaetia",
         "orientation": "v",
         "showlegend": true,
         "type": "box",
         "x": [
          "Spirochaetia",
          "Spirochaetia",
          "Spirochaetia"
         ],
         "x0": " ",
         "xaxis": "x",
         "y": [
          939,
          795,
          2847
         ],
         "y0": " ",
         "yaxis": "y"
        },
        {
         "alignmentgroup": "True",
         "hovertemplate": "SubGroup=%{x}<br>CDS=%{y}<extra></extra>",
         "legendgroup": "Archaeoglobi",
         "marker": {
          "color": "#ab63fa"
         },
         "name": "Archaeoglobi",
         "notched": false,
         "offsetgroup": "Archaeoglobi",
         "orientation": "v",
         "showlegend": true,
         "type": "box",
         "x": [
          "Archaeoglobi"
         ],
         "x0": " ",
         "xaxis": "x",
         "y": [
          1819
         ],
         "y0": " ",
         "yaxis": "y"
        },
        {
         "alignmentgroup": "True",
         "hovertemplate": "SubGroup=%{x}<br>CDS=%{y}<extra></extra>",
         "legendgroup": "Blastocatellia",
         "marker": {
          "color": "#FFA15A"
         },
         "name": "Blastocatellia",
         "notched": false,
         "offsetgroup": "Blastocatellia",
         "orientation": "v",
         "showlegend": true,
         "type": "box",
         "x": [
          "Blastocatellia"
         ],
         "x0": " ",
         "xaxis": "x",
         "y": [
          3063
         ],
         "y0": " ",
         "yaxis": "y"
        },
        {
         "alignmentgroup": "True",
         "hovertemplate": "SubGroup=%{x}<br>CDS=%{y}<extra></extra>",
         "legendgroup": "Planctomycetes",
         "marker": {
          "color": "#19d3f3"
         },
         "name": "Planctomycetes",
         "notched": false,
         "offsetgroup": "Planctomycetes",
         "orientation": "v",
         "showlegend": true,
         "type": "box",
         "x": [
          "Planctomycetes"
         ],
         "x0": " ",
         "xaxis": "x",
         "y": [
          3700
         ],
         "y0": " ",
         "yaxis": "y"
        },
        {
         "alignmentgroup": "True",
         "hovertemplate": "SubGroup=%{x}<br>CDS=%{y}<extra></extra>",
         "legendgroup": "Crenarchaeota",
         "marker": {
          "color": "#FF6692"
         },
         "name": "Crenarchaeota",
         "notched": false,
         "offsetgroup": "Crenarchaeota",
         "orientation": "v",
         "showlegend": true,
         "type": "box",
         "x": [
          "Crenarchaeota"
         ],
         "x0": " ",
         "xaxis": "x",
         "y": [
          2333
         ],
         "y0": " ",
         "yaxis": "y"
        }
       ],
       "layout": {
        "boxmode": "overlay",
        "legend": {
         "title": {
          "text": "SubGroup"
         },
         "tracegroupgap": 0
        },
        "margin": {
         "t": 60
        },
        "template": {
         "data": {
          "bar": [
           {
            "error_x": {
             "color": "#2a3f5f"
            },
            "error_y": {
             "color": "#2a3f5f"
            },
            "marker": {
             "line": {
              "color": "#E5ECF6",
              "width": 0.5
             },
             "pattern": {
              "fillmode": "overlay",
              "size": 10,
              "solidity": 0.2
             }
            },
            "type": "bar"
           }
          ],
          "barpolar": [
           {
            "marker": {
             "line": {
              "color": "#E5ECF6",
              "width": 0.5
             },
             "pattern": {
              "fillmode": "overlay",
              "size": 10,
              "solidity": 0.2
             }
            },
            "type": "barpolar"
           }
          ],
          "carpet": [
           {
            "aaxis": {
             "endlinecolor": "#2a3f5f",
             "gridcolor": "white",
             "linecolor": "white",
             "minorgridcolor": "white",
             "startlinecolor": "#2a3f5f"
            },
            "baxis": {
             "endlinecolor": "#2a3f5f",
             "gridcolor": "white",
             "linecolor": "white",
             "minorgridcolor": "white",
             "startlinecolor": "#2a3f5f"
            },
            "type": "carpet"
           }
          ],
          "choropleth": [
           {
            "colorbar": {
             "outlinewidth": 0,
             "ticks": ""
            },
            "type": "choropleth"
           }
          ],
          "contour": [
           {
            "colorbar": {
             "outlinewidth": 0,
             "ticks": ""
            },
            "colorscale": [
             [
              0,
              "#0d0887"
             ],
             [
              0.1111111111111111,
              "#46039f"
             ],
             [
              0.2222222222222222,
              "#7201a8"
             ],
             [
              0.3333333333333333,
              "#9c179e"
             ],
             [
              0.4444444444444444,
              "#bd3786"
             ],
             [
              0.5555555555555556,
              "#d8576b"
             ],
             [
              0.6666666666666666,
              "#ed7953"
             ],
             [
              0.7777777777777778,
              "#fb9f3a"
             ],
             [
              0.8888888888888888,
              "#fdca26"
             ],
             [
              1,
              "#f0f921"
             ]
            ],
            "type": "contour"
           }
          ],
          "contourcarpet": [
           {
            "colorbar": {
             "outlinewidth": 0,
             "ticks": ""
            },
            "type": "contourcarpet"
           }
          ],
          "heatmap": [
           {
            "colorbar": {
             "outlinewidth": 0,
             "ticks": ""
            },
            "colorscale": [
             [
              0,
              "#0d0887"
             ],
             [
              0.1111111111111111,
              "#46039f"
             ],
             [
              0.2222222222222222,
              "#7201a8"
             ],
             [
              0.3333333333333333,
              "#9c179e"
             ],
             [
              0.4444444444444444,
              "#bd3786"
             ],
             [
              0.5555555555555556,
              "#d8576b"
             ],
             [
              0.6666666666666666,
              "#ed7953"
             ],
             [
              0.7777777777777778,
              "#fb9f3a"
             ],
             [
              0.8888888888888888,
              "#fdca26"
             ],
             [
              1,
              "#f0f921"
             ]
            ],
            "type": "heatmap"
           }
          ],
          "heatmapgl": [
           {
            "colorbar": {
             "outlinewidth": 0,
             "ticks": ""
            },
            "colorscale": [
             [
              0,
              "#0d0887"
             ],
             [
              0.1111111111111111,
              "#46039f"
             ],
             [
              0.2222222222222222,
              "#7201a8"
             ],
             [
              0.3333333333333333,
              "#9c179e"
             ],
             [
              0.4444444444444444,
              "#bd3786"
             ],
             [
              0.5555555555555556,
              "#d8576b"
             ],
             [
              0.6666666666666666,
              "#ed7953"
             ],
             [
              0.7777777777777778,
              "#fb9f3a"
             ],
             [
              0.8888888888888888,
              "#fdca26"
             ],
             [
              1,
              "#f0f921"
             ]
            ],
            "type": "heatmapgl"
           }
          ],
          "histogram": [
           {
            "marker": {
             "pattern": {
              "fillmode": "overlay",
              "size": 10,
              "solidity": 0.2
             }
            },
            "type": "histogram"
           }
          ],
          "histogram2d": [
           {
            "colorbar": {
             "outlinewidth": 0,
             "ticks": ""
            },
            "colorscale": [
             [
              0,
              "#0d0887"
             ],
             [
              0.1111111111111111,
              "#46039f"
             ],
             [
              0.2222222222222222,
              "#7201a8"
             ],
             [
              0.3333333333333333,
              "#9c179e"
             ],
             [
              0.4444444444444444,
              "#bd3786"
             ],
             [
              0.5555555555555556,
              "#d8576b"
             ],
             [
              0.6666666666666666,
              "#ed7953"
             ],
             [
              0.7777777777777778,
              "#fb9f3a"
             ],
             [
              0.8888888888888888,
              "#fdca26"
             ],
             [
              1,
              "#f0f921"
             ]
            ],
            "type": "histogram2d"
           }
          ],
          "histogram2dcontour": [
           {
            "colorbar": {
             "outlinewidth": 0,
             "ticks": ""
            },
            "colorscale": [
             [
              0,
              "#0d0887"
             ],
             [
              0.1111111111111111,
              "#46039f"
             ],
             [
              0.2222222222222222,
              "#7201a8"
             ],
             [
              0.3333333333333333,
              "#9c179e"
             ],
             [
              0.4444444444444444,
              "#bd3786"
             ],
             [
              0.5555555555555556,
              "#d8576b"
             ],
             [
              0.6666666666666666,
              "#ed7953"
             ],
             [
              0.7777777777777778,
              "#fb9f3a"
             ],
             [
              0.8888888888888888,
              "#fdca26"
             ],
             [
              1,
              "#f0f921"
             ]
            ],
            "type": "histogram2dcontour"
           }
          ],
          "mesh3d": [
           {
            "colorbar": {
             "outlinewidth": 0,
             "ticks": ""
            },
            "type": "mesh3d"
           }
          ],
          "parcoords": [
           {
            "line": {
             "colorbar": {
              "outlinewidth": 0,
              "ticks": ""
             }
            },
            "type": "parcoords"
           }
          ],
          "pie": [
           {
            "automargin": true,
            "type": "pie"
           }
          ],
          "scatter": [
           {
            "marker": {
             "colorbar": {
              "outlinewidth": 0,
              "ticks": ""
             }
            },
            "type": "scatter"
           }
          ],
          "scatter3d": [
           {
            "line": {
             "colorbar": {
              "outlinewidth": 0,
              "ticks": ""
             }
            },
            "marker": {
             "colorbar": {
              "outlinewidth": 0,
              "ticks": ""
             }
            },
            "type": "scatter3d"
           }
          ],
          "scattercarpet": [
           {
            "marker": {
             "colorbar": {
              "outlinewidth": 0,
              "ticks": ""
             }
            },
            "type": "scattercarpet"
           }
          ],
          "scattergeo": [
           {
            "marker": {
             "colorbar": {
              "outlinewidth": 0,
              "ticks": ""
             }
            },
            "type": "scattergeo"
           }
          ],
          "scattergl": [
           {
            "marker": {
             "colorbar": {
              "outlinewidth": 0,
              "ticks": ""
             }
            },
            "type": "scattergl"
           }
          ],
          "scattermapbox": [
           {
            "marker": {
             "colorbar": {
              "outlinewidth": 0,
              "ticks": ""
             }
            },
            "type": "scattermapbox"
           }
          ],
          "scatterpolar": [
           {
            "marker": {
             "colorbar": {
              "outlinewidth": 0,
              "ticks": ""
             }
            },
            "type": "scatterpolar"
           }
          ],
          "scatterpolargl": [
           {
            "marker": {
             "colorbar": {
              "outlinewidth": 0,
              "ticks": ""
             }
            },
            "type": "scatterpolargl"
           }
          ],
          "scatterternary": [
           {
            "marker": {
             "colorbar": {
              "outlinewidth": 0,
              "ticks": ""
             }
            },
            "type": "scatterternary"
           }
          ],
          "surface": [
           {
            "colorbar": {
             "outlinewidth": 0,
             "ticks": ""
            },
            "colorscale": [
             [
              0,
              "#0d0887"
             ],
             [
              0.1111111111111111,
              "#46039f"
             ],
             [
              0.2222222222222222,
              "#7201a8"
             ],
             [
              0.3333333333333333,
              "#9c179e"
             ],
             [
              0.4444444444444444,
              "#bd3786"
             ],
             [
              0.5555555555555556,
              "#d8576b"
             ],
             [
              0.6666666666666666,
              "#ed7953"
             ],
             [
              0.7777777777777778,
              "#fb9f3a"
             ],
             [
              0.8888888888888888,
              "#fdca26"
             ],
             [
              1,
              "#f0f921"
             ]
            ],
            "type": "surface"
           }
          ],
          "table": [
           {
            "cells": {
             "fill": {
              "color": "#EBF0F8"
             },
             "line": {
              "color": "white"
             }
            },
            "header": {
             "fill": {
              "color": "#C8D4E3"
             },
             "line": {
              "color": "white"
             }
            },
            "type": "table"
           }
          ]
         },
         "layout": {
          "annotationdefaults": {
           "arrowcolor": "#2a3f5f",
           "arrowhead": 0,
           "arrowwidth": 1
          },
          "autotypenumbers": "strict",
          "coloraxis": {
           "colorbar": {
            "outlinewidth": 0,
            "ticks": ""
           }
          },
          "colorscale": {
           "diverging": [
            [
             0,
             "#8e0152"
            ],
            [
             0.1,
             "#c51b7d"
            ],
            [
             0.2,
             "#de77ae"
            ],
            [
             0.3,
             "#f1b6da"
            ],
            [
             0.4,
             "#fde0ef"
            ],
            [
             0.5,
             "#f7f7f7"
            ],
            [
             0.6,
             "#e6f5d0"
            ],
            [
             0.7,
             "#b8e186"
            ],
            [
             0.8,
             "#7fbc41"
            ],
            [
             0.9,
             "#4d9221"
            ],
            [
             1,
             "#276419"
            ]
           ],
           "sequential": [
            [
             0,
             "#0d0887"
            ],
            [
             0.1111111111111111,
             "#46039f"
            ],
            [
             0.2222222222222222,
             "#7201a8"
            ],
            [
             0.3333333333333333,
             "#9c179e"
            ],
            [
             0.4444444444444444,
             "#bd3786"
            ],
            [
             0.5555555555555556,
             "#d8576b"
            ],
            [
             0.6666666666666666,
             "#ed7953"
            ],
            [
             0.7777777777777778,
             "#fb9f3a"
            ],
            [
             0.8888888888888888,
             "#fdca26"
            ],
            [
             1,
             "#f0f921"
            ]
           ],
           "sequentialminus": [
            [
             0,
             "#0d0887"
            ],
            [
             0.1111111111111111,
             "#46039f"
            ],
            [
             0.2222222222222222,
             "#7201a8"
            ],
            [
             0.3333333333333333,
             "#9c179e"
            ],
            [
             0.4444444444444444,
             "#bd3786"
            ],
            [
             0.5555555555555556,
             "#d8576b"
            ],
            [
             0.6666666666666666,
             "#ed7953"
            ],
            [
             0.7777777777777778,
             "#fb9f3a"
            ],
            [
             0.8888888888888888,
             "#fdca26"
            ],
            [
             1,
             "#f0f921"
            ]
           ]
          },
          "colorway": [
           "#636efa",
           "#EF553B",
           "#00cc96",
           "#ab63fa",
           "#FFA15A",
           "#19d3f3",
           "#FF6692",
           "#B6E880",
           "#FF97FF",
           "#FECB52"
          ],
          "font": {
           "color": "#2a3f5f"
          },
          "geo": {
           "bgcolor": "white",
           "lakecolor": "white",
           "landcolor": "#E5ECF6",
           "showlakes": true,
           "showland": true,
           "subunitcolor": "white"
          },
          "hoverlabel": {
           "align": "left"
          },
          "hovermode": "closest",
          "mapbox": {
           "style": "light"
          },
          "paper_bgcolor": "white",
          "plot_bgcolor": "#E5ECF6",
          "polar": {
           "angularaxis": {
            "gridcolor": "white",
            "linecolor": "white",
            "ticks": ""
           },
           "bgcolor": "#E5ECF6",
           "radialaxis": {
            "gridcolor": "white",
            "linecolor": "white",
            "ticks": ""
           }
          },
          "scene": {
           "xaxis": {
            "backgroundcolor": "#E5ECF6",
            "gridcolor": "white",
            "gridwidth": 2,
            "linecolor": "white",
            "showbackground": true,
            "ticks": "",
            "zerolinecolor": "white"
           },
           "yaxis": {
            "backgroundcolor": "#E5ECF6",
            "gridcolor": "white",
            "gridwidth": 2,
            "linecolor": "white",
            "showbackground": true,
            "ticks": "",
            "zerolinecolor": "white"
           },
           "zaxis": {
            "backgroundcolor": "#E5ECF6",
            "gridcolor": "white",
            "gridwidth": 2,
            "linecolor": "white",
            "showbackground": true,
            "ticks": "",
            "zerolinecolor": "white"
           }
          },
          "shapedefaults": {
           "line": {
            "color": "#2a3f5f"
           }
          },
          "ternary": {
           "aaxis": {
            "gridcolor": "white",
            "linecolor": "white",
            "ticks": ""
           },
           "baxis": {
            "gridcolor": "white",
            "linecolor": "white",
            "ticks": ""
           },
           "bgcolor": "#E5ECF6",
           "caxis": {
            "gridcolor": "white",
            "linecolor": "white",
            "ticks": ""
           }
          },
          "title": {
           "x": 0.05
          },
          "xaxis": {
           "automargin": true,
           "gridcolor": "white",
           "linecolor": "white",
           "ticks": "",
           "title": {
            "standoff": 15
           },
           "zerolinecolor": "white",
           "zerolinewidth": 2
          },
          "yaxis": {
           "automargin": true,
           "gridcolor": "white",
           "linecolor": "white",
           "ticks": "",
           "title": {
            "standoff": 15
           },
           "zerolinecolor": "white",
           "zerolinewidth": 2
          }
         }
        },
        "xaxis": {
         "anchor": "y",
         "categoryarray": [
          "Alphaproteobacteria",
          "delta/epsilon subdivisions",
          "Gammaproteobacteria",
          "Methanomada group",
          "Betaproteobacteria",
          "Firmicutes",
          "Actinobacteria",
          "Bacteroidetes/Chlorobi group",
          "Deinococcus-Thermus",
          "Chlamydiae",
          "Tenericutes",
          "Chloroflexi",
          "Caldiserica",
          "Stenosarchaea group",
          "Synergistia",
          "Deferribacteres",
          "Fusobacteriia",
          "Thaumarchaeota",
          "Bacteria candidate phyla",
          "Thermococci",
          "Cyanobacteria/Melainabacteria group",
          "Verrucomicrobia",
          "Spirochaetia",
          "Archaeoglobi",
          "Blastocatellia",
          "Planctomycetes",
          "Crenarchaeota"
         ],
         "categoryorder": "array",
         "domain": [
          0,
          1
         ],
         "title": {
          "text": "SubGroup"
         }
        },
        "yaxis": {
         "anchor": "x",
         "domain": [
          0,
          1
         ],
         "title": {
          "text": "CDS"
         }
        }
       }
      },
      "text/html": [
       "<div>                            <div id=\"e279a0e0-9439-4462-84f0-aa9304539cf8\" class=\"plotly-graph-div\" style=\"height:525px; width:100%;\"></div>            <script type=\"text/javascript\">                require([\"plotly\"], function(Plotly) {                    window.PLOTLYENV=window.PLOTLYENV || {};                                    if (document.getElementById(\"e279a0e0-9439-4462-84f0-aa9304539cf8\")) {                    Plotly.newPlot(                        \"e279a0e0-9439-4462-84f0-aa9304539cf8\",                        [{\"alignmentgroup\":\"True\",\"hovertemplate\":\"SubGroup=%{x}<br>CDS=%{y}<extra></extra>\",\"legendgroup\":\"Alphaproteobacteria\",\"marker\":{\"color\":\"#636efa\"},\"name\":\"Alphaproteobacteria\",\"notched\":false,\"offsetgroup\":\"Alphaproteobacteria\",\"orientation\":\"v\",\"showlegend\":true,\"x\":[\"Alphaproteobacteria\",\"Alphaproteobacteria\",\"Alphaproteobacteria\",\"Alphaproteobacteria\",\"Alphaproteobacteria\",\"Alphaproteobacteria\",\"Alphaproteobacteria\",\"Alphaproteobacteria\",\"Alphaproteobacteria\",\"Alphaproteobacteria\",\"Alphaproteobacteria\",\"Alphaproteobacteria\",\"Alphaproteobacteria\",\"Alphaproteobacteria\",\"Alphaproteobacteria\",\"Alphaproteobacteria\",\"Alphaproteobacteria\",\"Alphaproteobacteria\",\"Alphaproteobacteria\",\"Alphaproteobacteria\",\"Alphaproteobacteria\",\"Alphaproteobacteria\",\"Alphaproteobacteria\",\"Alphaproteobacteria\",\"Alphaproteobacteria\",\"Alphaproteobacteria\",\"Alphaproteobacteria\",\"Alphaproteobacteria\",\"Alphaproteobacteria\",\"Alphaproteobacteria\",\"Alphaproteobacteria\"],\"x0\":\" \",\"xaxis\":\"x\",\"y\":[2971.0,5186.0,1.0,6809.0,2913.0,2928.0,5210.0,831.0,6478.0,1226.0,6232.0,6770.0,1133.0,4451.0,909.0,2691.0,4311.0,4693.0,895.0,4031.0,4096.0,4041.0,1299.0,5492.0,6337.0,4715.0,6738.0,4721.0,7123.0,3157.0,7558.0],\"y0\":\" \",\"yaxis\":\"y\",\"type\":\"box\"},{\"alignmentgroup\":\"True\",\"hovertemplate\":\"SubGroup=%{x}<br>CDS=%{y}<extra></extra>\",\"legendgroup\":\"delta/epsilon subdivisions\",\"marker\":{\"color\":\"#EF553B\"},\"name\":\"delta/epsilon subdivisions\",\"notched\":false,\"offsetgroup\":\"delta/epsilon subdivisions\",\"orientation\":\"v\",\"showlegend\":true,\"x\":[\"delta/epsilon subdivisions\",\"delta/epsilon subdivisions\",\"delta/epsilon subdivisions\",\"delta/epsilon subdivisions\",\"delta/epsilon subdivisions\",\"delta/epsilon subdivisions\",\"delta/epsilon subdivisions\",\"delta/epsilon subdivisions\",\"delta/epsilon subdivisions\",\"delta/epsilon subdivisions\",\"delta/epsilon subdivisions\",\"delta/epsilon subdivisions\",\"delta/epsilon subdivisions\",\"delta/epsilon subdivisions\",\"delta/epsilon subdivisions\",\"delta/epsilon subdivisions\",\"delta/epsilon subdivisions\",\"delta/epsilon subdivisions\",\"delta/epsilon subdivisions\",\"delta/epsilon subdivisions\"],\"x0\":\" \",\"xaxis\":\"x\",\"y\":[1980.0,1440.0,1386.0,1751.0,1709.0,1883.0,7166.0,1448.0,1483.0,4135.0,1706.0,1641.0,1561.0,1423.0,1599.0,2380.0,1918.0,1758.0,1405.0,2465.0],\"y0\":\" \",\"yaxis\":\"y\",\"type\":\"box\"},{\"alignmentgroup\":\"True\",\"hovertemplate\":\"SubGroup=%{x}<br>CDS=%{y}<extra></extra>\",\"legendgroup\":\"Gammaproteobacteria\",\"marker\":{\"color\":\"#00cc96\"},\"name\":\"Gammaproteobacteria\",\"notched\":false,\"offsetgroup\":\"Gammaproteobacteria\",\"orientation\":\"v\",\"showlegend\":true,\"x\":[\"Gammaproteobacteria\",\"Gammaproteobacteria\",\"Gammaproteobacteria\",\"Gammaproteobacteria\",\"Gammaproteobacteria\",\"Gammaproteobacteria\",\"Gammaproteobacteria\",\"Gammaproteobacteria\",\"Gammaproteobacteria\",\"Gammaproteobacteria\",\"Gammaproteobacteria\",\"Gammaproteobacteria\",\"Gammaproteobacteria\",\"Gammaproteobacteria\",\"Gammaproteobacteria\",\"Gammaproteobacteria\",\"Gammaproteobacteria\",\"Gammaproteobacteria\",\"Gammaproteobacteria\",\"Gammaproteobacteria\",\"Gammaproteobacteria\",\"Gammaproteobacteria\",\"Gammaproteobacteria\",\"Gammaproteobacteria\",\"Gammaproteobacteria\",\"Gammaproteobacteria\",\"Gammaproteobacteria\",\"Gammaproteobacteria\",\"Gammaproteobacteria\",\"Gammaproteobacteria\",\"Gammaproteobacteria\",\"Gammaproteobacteria\",\"Gammaproteobacteria\",\"Gammaproteobacteria\",\"Gammaproteobacteria\",\"Gammaproteobacteria\",\"Gammaproteobacteria\",\"Gammaproteobacteria\",\"Gammaproteobacteria\",\"Gammaproteobacteria\",\"Gammaproteobacteria\",\"Gammaproteobacteria\",\"Gammaproteobacteria\",\"Gammaproteobacteria\",\"Gammaproteobacteria\",\"Gammaproteobacteria\",\"Gammaproteobacteria\",\"Gammaproteobacteria\",\"Gammaproteobacteria\",\"Gammaproteobacteria\",\"Gammaproteobacteria\",\"Gammaproteobacteria\",\"Gammaproteobacteria\",\"Gammaproteobacteria\",\"Gammaproteobacteria\",\"Gammaproteobacteria\",\"Gammaproteobacteria\",\"Gammaproteobacteria\",\"Gammaproteobacteria\",\"Gammaproteobacteria\",\"Gammaproteobacteria\",\"Gammaproteobacteria\",\"Gammaproteobacteria\",\"Gammaproteobacteria\",\"Gammaproteobacteria\",\"Gammaproteobacteria\",\"Gammaproteobacteria\",\"Gammaproteobacteria\",\"Gammaproteobacteria\",\"Gammaproteobacteria\",\"Gammaproteobacteria\",\"Gammaproteobacteria\",\"Gammaproteobacteria\",\"Gammaproteobacteria\",\"Gammaproteobacteria\",\"Gammaproteobacteria\",\"Gammaproteobacteria\",\"Gammaproteobacteria\",\"Gammaproteobacteria\",\"Gammaproteobacteria\",\"Gammaproteobacteria\",\"Gammaproteobacteria\",\"Gammaproteobacteria\",\"Gammaproteobacteria\",\"Gammaproteobacteria\",\"Gammaproteobacteria\",\"Gammaproteobacteria\",\"Gammaproteobacteria\",\"Gammaproteobacteria\",\"Gammaproteobacteria\",\"Gammaproteobacteria\",\"Gammaproteobacteria\",\"Gammaproteobacteria\",\"Gammaproteobacteria\",\"Gammaproteobacteria\",\"Gammaproteobacteria\",\"Gammaproteobacteria\",\"Gammaproteobacteria\",\"Gammaproteobacteria\",\"Gammaproteobacteria\",\"Gammaproteobacteria\",\"Gammaproteobacteria\",\"Gammaproteobacteria\",\"Gammaproteobacteria\",\"Gammaproteobacteria\",\"Gammaproteobacteria\",\"Gammaproteobacteria\",\"Gammaproteobacteria\",\"Gammaproteobacteria\",\"Gammaproteobacteria\",\"Gammaproteobacteria\",\"Gammaproteobacteria\",\"Gammaproteobacteria\",\"Gammaproteobacteria\",\"Gammaproteobacteria\",\"Gammaproteobacteria\",\"Gammaproteobacteria\",\"Gammaproteobacteria\",\"Gammaproteobacteria\",\"Gammaproteobacteria\",\"Gammaproteobacteria\",\"Gammaproteobacteria\",\"Gammaproteobacteria\",\"Gammaproteobacteria\",\"Gammaproteobacteria\",\"Gammaproteobacteria\",\"Gammaproteobacteria\",\"Gammaproteobacteria\",\"Gammaproteobacteria\",\"Gammaproteobacteria\",\"Gammaproteobacteria\",\"Gammaproteobacteria\",\"Gammaproteobacteria\",\"Gammaproteobacteria\",\"Gammaproteobacteria\",\"Gammaproteobacteria\",\"Gammaproteobacteria\",\"Gammaproteobacteria\",\"Gammaproteobacteria\",\"Gammaproteobacteria\",\"Gammaproteobacteria\",\"Gammaproteobacteria\",\"Gammaproteobacteria\",\"Gammaproteobacteria\",\"Gammaproteobacteria\",\"Gammaproteobacteria\",\"Gammaproteobacteria\",\"Gammaproteobacteria\",\"Gammaproteobacteria\",\"Gammaproteobacteria\",\"Gammaproteobacteria\"],\"x0\":\" \",\"xaxis\":\"x\",\"y\":[2064.0,4288.0,4735.0,4196.0,377.0,5487.0,6115.0,4196.0,5023.0,4255.0,3750.0,4206.0,5990.0,4379.0,2010.0,1882.0,4198.0,5728.0,5896.0,3257.0,5456.0,4511.0,3725.0,6363.0,4169.0,3827.0,3753.0,4346.0,4043.0,1561.0,5353.0,1817.0,4689.0,4382.0,5156.0,1791.0,5558.0,4207.0,6246.0,1466.0,211.0,593.0,5423.0,3534.0,4732.0,1458.0,1746.0,5171.0,3309.0,3290.0,3970.0,6355.0,5517.0,4154.0,6838.0,6255.0,6372.0,5107.0,3217.0,4084.0,6387.0,3904.0,5085.0,4089.0,4130.0,5234.0,4312.0,4968.0,3297.0,4523.0,3394.0,4806.0,2725.0,6126.0,2133.0,1685.0,2306.0,3559.0,4895.0,245.0,2081.0,5665.0,4678.0,5113.0,3027.0,5128.0,3839.0,4176.0,2108.0,1940.0,3737.0,1819.0,3511.0,4060.0,5083.0,4340.0,4266.0,4930.0,3062.0,5306.0,4047.0,3573.0,4373.0,2235.0,6266.0,5152.0,3353.0,4738.0,5494.0,2957.0,5606.0,5189.0,3035.0,2012.0,2169.0,4548.0,5479.0,3709.0,3704.0,1984.0,3799.0,2869.0,3062.0,4515.0,3970.0,5079.0,4634.0,5176.0,3165.0,5455.0,6309.0,5038.0,5067.0,5680.0,4478.0,4494.0,4760.0,4245.0,4806.0,4516.0,4766.0,4016.0,5786.0,4199.0,3489.0,3716.0,4191.0,2973.0,3963.0,2413.0,5773.0],\"y0\":\" \",\"yaxis\":\"y\",\"type\":\"box\"},{\"alignmentgroup\":\"True\",\"hovertemplate\":\"SubGroup=%{x}<br>CDS=%{y}<extra></extra>\",\"legendgroup\":\"Methanomada group\",\"marker\":{\"color\":\"#ab63fa\"},\"name\":\"Methanomada group\",\"notched\":false,\"offsetgroup\":\"Methanomada group\",\"orientation\":\"v\",\"showlegend\":true,\"x\":[\"Methanomada group\"],\"x0\":\" \",\"xaxis\":\"x\",\"y\":[2176.0],\"y0\":\" \",\"yaxis\":\"y\",\"type\":\"box\"},{\"alignmentgroup\":\"True\",\"hovertemplate\":\"SubGroup=%{x}<br>CDS=%{y}<extra></extra>\",\"legendgroup\":\"Betaproteobacteria\",\"marker\":{\"color\":\"#FFA15A\"},\"name\":\"Betaproteobacteria\",\"notched\":false,\"offsetgroup\":\"Betaproteobacteria\",\"orientation\":\"v\",\"showlegend\":true,\"x\":[\"Betaproteobacteria\",\"Betaproteobacteria\",\"Betaproteobacteria\",\"Betaproteobacteria\",\"Betaproteobacteria\",\"Betaproteobacteria\",\"Betaproteobacteria\",\"Betaproteobacteria\",\"Betaproteobacteria\",\"Betaproteobacteria\",\"Betaproteobacteria\",\"Betaproteobacteria\",\"Betaproteobacteria\",\"Betaproteobacteria\",\"Betaproteobacteria\",\"Betaproteobacteria\",\"Betaproteobacteria\",\"Betaproteobacteria\",\"Betaproteobacteria\",\"Betaproteobacteria\",\"Betaproteobacteria\",\"Betaproteobacteria\",\"Betaproteobacteria\",\"Betaproteobacteria\",\"Betaproteobacteria\",\"Betaproteobacteria\",\"Betaproteobacteria\",\"Betaproteobacteria\",\"Betaproteobacteria\",\"Betaproteobacteria\",\"Betaproteobacteria\",\"Betaproteobacteria\",\"Betaproteobacteria\",\"Betaproteobacteria\",\"Betaproteobacteria\",\"Betaproteobacteria\",\"Betaproteobacteria\",\"Betaproteobacteria\",\"Betaproteobacteria\",\"Betaproteobacteria\",\"Betaproteobacteria\",\"Betaproteobacteria\",\"Betaproteobacteria\"],\"x0\":\" \",\"xaxis\":\"x\",\"y\":[1556.0,4338.0,2033.0,4706.0,3603.0,3638.0,6140.0,7114.0,4445.0,4242.0,3541.0,2023.0,4242.0,3846.0,1700.0,2785.0,6129.0,6053.0,2036.0,5930.0,7281.0,5983.0,4643.0,6506.0,3555.0,6638.0,1488.0,2088.0,2756.0,5932.0,1961.0,3792.0,5972.0,5428.0,2011.0,5340.0,4794.0,2100.0,813.0,3768.0,4924.0,6100.0,3618.0],\"y0\":\" \",\"yaxis\":\"y\",\"type\":\"box\"},{\"alignmentgroup\":\"True\",\"hovertemplate\":\"SubGroup=%{x}<br>CDS=%{y}<extra></extra>\",\"legendgroup\":\"Firmicutes\",\"marker\":{\"color\":\"#19d3f3\"},\"name\":\"Firmicutes\",\"notched\":false,\"offsetgroup\":\"Firmicutes\",\"orientation\":\"v\",\"showlegend\":true,\"x\":[\"Firmicutes\",\"Firmicutes\",\"Firmicutes\",\"Firmicutes\",\"Firmicutes\",\"Firmicutes\",\"Firmicutes\",\"Firmicutes\",\"Firmicutes\",\"Firmicutes\",\"Firmicutes\",\"Firmicutes\",\"Firmicutes\",\"Firmicutes\",\"Firmicutes\",\"Firmicutes\",\"Firmicutes\",\"Firmicutes\",\"Firmicutes\",\"Firmicutes\",\"Firmicutes\",\"Firmicutes\",\"Firmicutes\",\"Firmicutes\",\"Firmicutes\",\"Firmicutes\",\"Firmicutes\",\"Firmicutes\",\"Firmicutes\",\"Firmicutes\",\"Firmicutes\",\"Firmicutes\",\"Firmicutes\",\"Firmicutes\",\"Firmicutes\",\"Firmicutes\",\"Firmicutes\",\"Firmicutes\",\"Firmicutes\",\"Firmicutes\",\"Firmicutes\",\"Firmicutes\",\"Firmicutes\",\"Firmicutes\",\"Firmicutes\",\"Firmicutes\",\"Firmicutes\",\"Firmicutes\",\"Firmicutes\",\"Firmicutes\",\"Firmicutes\",\"Firmicutes\",\"Firmicutes\",\"Firmicutes\",\"Firmicutes\",\"Firmicutes\",\"Firmicutes\",\"Firmicutes\",\"Firmicutes\",\"Firmicutes\",\"Firmicutes\",\"Firmicutes\",\"Firmicutes\",\"Firmicutes\",\"Firmicutes\",\"Firmicutes\",\"Firmicutes\",\"Firmicutes\",\"Firmicutes\",\"Firmicutes\",\"Firmicutes\",\"Firmicutes\",\"Firmicutes\",\"Firmicutes\",\"Firmicutes\",\"Firmicutes\",\"Firmicutes\",\"Firmicutes\",\"Firmicutes\",\"Firmicutes\",\"Firmicutes\",\"Firmicutes\",\"Firmicutes\",\"Firmicutes\",\"Firmicutes\",\"Firmicutes\",\"Firmicutes\",\"Firmicutes\",\"Firmicutes\",\"Firmicutes\",\"Firmicutes\",\"Firmicutes\",\"Firmicutes\",\"Firmicutes\",\"Firmicutes\",\"Firmicutes\",\"Firmicutes\",\"Firmicutes\",\"Firmicutes\",\"Firmicutes\",\"Firmicutes\",\"Firmicutes\",\"Firmicutes\",\"Firmicutes\",\"Firmicutes\",\"Firmicutes\",\"Firmicutes\",\"Firmicutes\",\"Firmicutes\",\"Firmicutes\",\"Firmicutes\",\"Firmicutes\",\"Firmicutes\",\"Firmicutes\",\"Firmicutes\",\"Firmicutes\",\"Firmicutes\",\"Firmicutes\",\"Firmicutes\",\"Firmicutes\",\"Firmicutes\",\"Firmicutes\",\"Firmicutes\",\"Firmicutes\",\"Firmicutes\",\"Firmicutes\",\"Firmicutes\",\"Firmicutes\",\"Firmicutes\",\"Firmicutes\",\"Firmicutes\",\"Firmicutes\",\"Firmicutes\",\"Firmicutes\",\"Firmicutes\",\"Firmicutes\",\"Firmicutes\",\"Firmicutes\",\"Firmicutes\"],\"x0\":\" \",\"xaxis\":\"x\",\"y\":[1925.0,2825.0,2494.0,2474.0,3675.0,2749.0,3008.0,3558.0,1678.0,2950.0,2701.0,3203.0,3831.0,1999.0,2773.0,2749.0,2151.0,2785.0,5092.0,2553.0,2737.0,1656.0,3070.0,2940.0,1883.0,3010.0,2785.0,2730.0,3124.0,2582.0,1887.0,1916.0,2060.0,5454.0,2259.0,2989.0,1892.0,5027.0,2716.0,4038.0,1772.0,1941.0,1798.0,3707.0,1834.0,1961.0,2020.0,1919.0,2398.0,1931.0,1955.0,3475.0,2274.0,2222.0,1576.0,2016.0,3559.0,2418.0,4583.0,4946.0,1592.0,3758.0,1878.0,2939.0,1773.0,3106.0,3679.0,2766.0,3517.0,3687.0,1696.0,2452.0,2730.0,5229.0,2147.0,1614.0,1725.0,4477.0,1668.0,4154.0,3835.0,3659.0,3980.0,2249.0,3421.0,2961.0,3910.0,2450.0,2737.0,2137.0,1888.0,3352.0,2259.0,3384.0,1803.0,2620.0,3505.0,3697.0,4468.0,3219.0,2318.0,2730.0,3422.0,1601.0,2881.0,4045.0,3044.0,2959.0,3083.0,4127.0,2005.0,1744.0,4486.0,2555.0,3032.0,3672.0,2840.0,1394.0,1979.0,1907.0,1996.0,4247.0,4801.0,2491.0,2938.0,2206.0,2805.0,2827.0,1844.0,2909.0,4913.0,2357.0,2432.0,2508.0,2329.0,3950.0,1746.0,3674.0,4148.0],\"y0\":\" \",\"yaxis\":\"y\",\"type\":\"box\"},{\"alignmentgroup\":\"True\",\"hovertemplate\":\"SubGroup=%{x}<br>CDS=%{y}<extra></extra>\",\"legendgroup\":\"Actinobacteria\",\"marker\":{\"color\":\"#FF6692\"},\"name\":\"Actinobacteria\",\"notched\":false,\"offsetgroup\":\"Actinobacteria\",\"orientation\":\"v\",\"showlegend\":true,\"x\":[\"Actinobacteria\",\"Actinobacteria\",\"Actinobacteria\",\"Actinobacteria\",\"Actinobacteria\",\"Actinobacteria\",\"Actinobacteria\",\"Actinobacteria\",\"Actinobacteria\",\"Actinobacteria\",\"Actinobacteria\",\"Actinobacteria\",\"Actinobacteria\",\"Actinobacteria\",\"Actinobacteria\",\"Actinobacteria\",\"Actinobacteria\",\"Actinobacteria\",\"Actinobacteria\",\"Actinobacteria\",\"Actinobacteria\",\"Actinobacteria\",\"Actinobacteria\",\"Actinobacteria\",\"Actinobacteria\",\"Actinobacteria\",\"Actinobacteria\",\"Actinobacteria\",\"Actinobacteria\",\"Actinobacteria\",\"Actinobacteria\",\"Actinobacteria\",\"Actinobacteria\",\"Actinobacteria\",\"Actinobacteria\",\"Actinobacteria\",\"Actinobacteria\",\"Actinobacteria\",\"Actinobacteria\",\"Actinobacteria\",\"Actinobacteria\",\"Actinobacteria\",\"Actinobacteria\",\"Actinobacteria\"],\"x0\":\" \",\"xaxis\":\"x\",\"y\":[6405.0,3823.0,3089.0,2445.0,7345.0,3901.0,3791.0,3418.0,2364.0,3134.0,5598.0,2379.0,3248.0,4974.0,2962.0,3638.0,2210.0,3889.0,2302.0,4019.0,4090.0,5200.0,4768.0,1822.0,3894.0,2331.0,3534.0,3180.0,5511.0,5167.0,5108.0,3343.0,6819.0,3501.0,5034.0,6964.0,5327.0,2049.0,2887.0,2401.0,1841.0,1742.0,2061.0,10525.0],\"y0\":\" \",\"yaxis\":\"y\",\"type\":\"box\"},{\"alignmentgroup\":\"True\",\"hovertemplate\":\"SubGroup=%{x}<br>CDS=%{y}<extra></extra>\",\"legendgroup\":\"Bacteroidetes/Chlorobi group\",\"marker\":{\"color\":\"#B6E880\"},\"name\":\"Bacteroidetes/Chlorobi group\",\"notched\":false,\"offsetgroup\":\"Bacteroidetes/Chlorobi group\",\"orientation\":\"v\",\"showlegend\":true,\"x\":[\"Bacteroidetes/Chlorobi group\",\"Bacteroidetes/Chlorobi group\",\"Bacteroidetes/Chlorobi group\",\"Bacteroidetes/Chlorobi group\",\"Bacteroidetes/Chlorobi group\",\"Bacteroidetes/Chlorobi group\",\"Bacteroidetes/Chlorobi group\",\"Bacteroidetes/Chlorobi group\",\"Bacteroidetes/Chlorobi group\",\"Bacteroidetes/Chlorobi group\",\"Bacteroidetes/Chlorobi group\",\"Bacteroidetes/Chlorobi group\",\"Bacteroidetes/Chlorobi group\",\"Bacteroidetes/Chlorobi group\",\"Bacteroidetes/Chlorobi group\",\"Bacteroidetes/Chlorobi group\",\"Bacteroidetes/Chlorobi group\"],\"x0\":\" \",\"xaxis\":\"x\",\"y\":[588.0,2137.0,2415.0,5297.0,5114.0,2303.0,5045.0,4257.0,3714.0,3509.0,1910.0,4239.0,3436.0,4252.0,3538.0,2647.0,2542.0],\"y0\":\" \",\"yaxis\":\"y\",\"type\":\"box\"},{\"alignmentgroup\":\"True\",\"hovertemplate\":\"SubGroup=%{x}<br>CDS=%{y}<extra></extra>\",\"legendgroup\":\"Deinococcus-Thermus\",\"marker\":{\"color\":\"#FF97FF\"},\"name\":\"Deinococcus-Thermus\",\"notched\":false,\"offsetgroup\":\"Deinococcus-Thermus\",\"orientation\":\"v\",\"showlegend\":true,\"x\":[\"Deinococcus-Thermus\",\"Deinococcus-Thermus\"],\"x0\":\" \",\"xaxis\":\"x\",\"y\":[2984.0,3217.0],\"y0\":\" \",\"yaxis\":\"y\",\"type\":\"box\"},{\"alignmentgroup\":\"True\",\"hovertemplate\":\"SubGroup=%{x}<br>CDS=%{y}<extra></extra>\",\"legendgroup\":\"Chlamydiae\",\"marker\":{\"color\":\"#FECB52\"},\"name\":\"Chlamydiae\",\"notched\":false,\"offsetgroup\":\"Chlamydiae\",\"orientation\":\"v\",\"showlegend\":true,\"x\":[\"Chlamydiae\",\"Chlamydiae\",\"Chlamydiae\",\"Chlamydiae\",\"Chlamydiae\"],\"x0\":\" \",\"xaxis\":\"x\",\"y\":[884.0,878.0,989.0,886.0,893.0],\"y0\":\" \",\"yaxis\":\"y\",\"type\":\"box\"},{\"alignmentgroup\":\"True\",\"hovertemplate\":\"SubGroup=%{x}<br>CDS=%{y}<extra></extra>\",\"legendgroup\":\"Tenericutes\",\"marker\":{\"color\":\"#636efa\"},\"name\":\"Tenericutes\",\"notched\":false,\"offsetgroup\":\"Tenericutes\",\"orientation\":\"v\",\"showlegend\":true,\"x\":[\"Tenericutes\",\"Tenericutes\",\"Tenericutes\",\"Tenericutes\",\"Tenericutes\",\"Tenericutes\",\"Tenericutes\",\"Tenericutes\",\"Tenericutes\",\"Tenericutes\"],\"x0\":\" \",\"xaxis\":\"x\",\"y\":[674.0,691.0,1271.0,524.0,573.0,835.0,729.0,925.0,749.0,588.0],\"y0\":\" \",\"yaxis\":\"y\",\"type\":\"box\"},{\"alignmentgroup\":\"True\",\"hovertemplate\":\"SubGroup=%{x}<br>CDS=%{y}<extra></extra>\",\"legendgroup\":\"Chloroflexi\",\"marker\":{\"color\":\"#EF553B\"},\"name\":\"Chloroflexi\",\"notched\":false,\"offsetgroup\":\"Chloroflexi\",\"orientation\":\"v\",\"showlegend\":true,\"x\":[\"Chloroflexi\"],\"x0\":\" \",\"xaxis\":\"x\",\"y\":[1399.0],\"y0\":\" \",\"yaxis\":\"y\",\"type\":\"box\"},{\"alignmentgroup\":\"True\",\"hovertemplate\":\"SubGroup=%{x}<br>CDS=%{y}<extra></extra>\",\"legendgroup\":\"Caldiserica\",\"marker\":{\"color\":\"#00cc96\"},\"name\":\"Caldiserica\",\"notched\":false,\"offsetgroup\":\"Caldiserica\",\"orientation\":\"v\",\"showlegend\":true,\"x\":[\"Caldiserica\"],\"x0\":\" \",\"xaxis\":\"x\",\"y\":[1502.0],\"y0\":\" \",\"yaxis\":\"y\",\"type\":\"box\"},{\"alignmentgroup\":\"True\",\"hovertemplate\":\"SubGroup=%{x}<br>CDS=%{y}<extra></extra>\",\"legendgroup\":\"Stenosarchaea group\",\"marker\":{\"color\":\"#ab63fa\"},\"name\":\"Stenosarchaea group\",\"notched\":false,\"offsetgroup\":\"Stenosarchaea group\",\"orientation\":\"v\",\"showlegend\":true,\"x\":[\"Stenosarchaea group\",\"Stenosarchaea group\",\"Stenosarchaea group\",\"Stenosarchaea group\",\"Stenosarchaea group\",\"Stenosarchaea group\",\"Stenosarchaea group\",\"Stenosarchaea group\",\"Stenosarchaea group\"],\"x0\":\" \",\"xaxis\":\"x\",\"y\":[4452.0,3690.0,2590.0,3660.0,3712.0,2012.0,3645.0,4102.0,1743.0],\"y0\":\" \",\"yaxis\":\"y\",\"type\":\"box\"},{\"alignmentgroup\":\"True\",\"hovertemplate\":\"SubGroup=%{x}<br>CDS=%{y}<extra></extra>\",\"legendgroup\":\"Synergistia\",\"marker\":{\"color\":\"#FFA15A\"},\"name\":\"Synergistia\",\"notched\":false,\"offsetgroup\":\"Synergistia\",\"orientation\":\"v\",\"showlegend\":true,\"x\":[\"Synergistia\"],\"x0\":\" \",\"xaxis\":\"x\",\"y\":[1758.0],\"y0\":\" \",\"yaxis\":\"y\",\"type\":\"box\"},{\"alignmentgroup\":\"True\",\"hovertemplate\":\"SubGroup=%{x}<br>CDS=%{y}<extra></extra>\",\"legendgroup\":\"Deferribacteres\",\"marker\":{\"color\":\"#19d3f3\"},\"name\":\"Deferribacteres\",\"notched\":false,\"offsetgroup\":\"Deferribacteres\",\"orientation\":\"v\",\"showlegend\":true,\"x\":[\"Deferribacteres\"],\"x0\":\" \",\"xaxis\":\"x\",\"y\":[2117.0],\"y0\":\" \",\"yaxis\":\"y\",\"type\":\"box\"},{\"alignmentgroup\":\"True\",\"hovertemplate\":\"SubGroup=%{x}<br>CDS=%{y}<extra></extra>\",\"legendgroup\":\"Fusobacteriia\",\"marker\":{\"color\":\"#FF6692\"},\"name\":\"Fusobacteriia\",\"notched\":false,\"offsetgroup\":\"Fusobacteriia\",\"orientation\":\"v\",\"showlegend\":true,\"x\":[\"Fusobacteriia\"],\"x0\":\" \",\"xaxis\":\"x\",\"y\":[2002.0],\"y0\":\" \",\"yaxis\":\"y\",\"type\":\"box\"},{\"alignmentgroup\":\"True\",\"hovertemplate\":\"SubGroup=%{x}<br>CDS=%{y}<extra></extra>\",\"legendgroup\":\"Thaumarchaeota\",\"marker\":{\"color\":\"#B6E880\"},\"name\":\"Thaumarchaeota\",\"notched\":false,\"offsetgroup\":\"Thaumarchaeota\",\"orientation\":\"v\",\"showlegend\":true,\"x\":[\"Thaumarchaeota\"],\"x0\":\" \",\"xaxis\":\"x\",\"y\":[1907.0],\"y0\":\" \",\"yaxis\":\"y\",\"type\":\"box\"},{\"alignmentgroup\":\"True\",\"hovertemplate\":\"SubGroup=%{x}<br>CDS=%{y}<extra></extra>\",\"legendgroup\":\"Bacteria candidate phyla\",\"marker\":{\"color\":\"#FF97FF\"},\"name\":\"Bacteria candidate phyla\",\"notched\":false,\"offsetgroup\":\"Bacteria candidate phyla\",\"orientation\":\"v\",\"showlegend\":true,\"x\":[\"Bacteria candidate phyla\",\"Bacteria candidate phyla\"],\"x0\":\" \",\"xaxis\":\"x\",\"y\":[842.0,1185.0],\"y0\":\" \",\"yaxis\":\"y\",\"type\":\"box\"},{\"alignmentgroup\":\"True\",\"hovertemplate\":\"SubGroup=%{x}<br>CDS=%{y}<extra></extra>\",\"legendgroup\":\"Thermococci\",\"marker\":{\"color\":\"#FECB52\"},\"name\":\"Thermococci\",\"notched\":false,\"offsetgroup\":\"Thermococci\",\"orientation\":\"v\",\"showlegend\":true,\"x\":[\"Thermococci\"],\"x0\":\" \",\"xaxis\":\"x\",\"y\":[2038.0],\"y0\":\" \",\"yaxis\":\"y\",\"type\":\"box\"},{\"alignmentgroup\":\"True\",\"hovertemplate\":\"SubGroup=%{x}<br>CDS=%{y}<extra></extra>\",\"legendgroup\":\"Cyanobacteria/Melainabacteria group\",\"marker\":{\"color\":\"#636efa\"},\"name\":\"Cyanobacteria/Melainabacteria group\",\"notched\":false,\"offsetgroup\":\"Cyanobacteria/Melainabacteria group\",\"orientation\":\"v\",\"showlegend\":true,\"x\":[\"Cyanobacteria/Melainabacteria group\",\"Cyanobacteria/Melainabacteria group\"],\"x0\":\" \",\"xaxis\":\"x\",\"y\":[3461.0,6102.0],\"y0\":\" \",\"yaxis\":\"y\",\"type\":\"box\"},{\"alignmentgroup\":\"True\",\"hovertemplate\":\"SubGroup=%{x}<br>CDS=%{y}<extra></extra>\",\"legendgroup\":\"Verrucomicrobia\",\"marker\":{\"color\":\"#EF553B\"},\"name\":\"Verrucomicrobia\",\"notched\":false,\"offsetgroup\":\"Verrucomicrobia\",\"orientation\":\"v\",\"showlegend\":true,\"x\":[\"Verrucomicrobia\",\"Verrucomicrobia\"],\"x0\":\" \",\"xaxis\":\"x\",\"y\":[2538.0,2263.0],\"y0\":\" \",\"yaxis\":\"y\",\"type\":\"box\"},{\"alignmentgroup\":\"True\",\"hovertemplate\":\"SubGroup=%{x}<br>CDS=%{y}<extra></extra>\",\"legendgroup\":\"Spirochaetia\",\"marker\":{\"color\":\"#00cc96\"},\"name\":\"Spirochaetia\",\"notched\":false,\"offsetgroup\":\"Spirochaetia\",\"orientation\":\"v\",\"showlegend\":true,\"x\":[\"Spirochaetia\",\"Spirochaetia\",\"Spirochaetia\"],\"x0\":\" \",\"xaxis\":\"x\",\"y\":[939.0,795.0,2847.0],\"y0\":\" \",\"yaxis\":\"y\",\"type\":\"box\"},{\"alignmentgroup\":\"True\",\"hovertemplate\":\"SubGroup=%{x}<br>CDS=%{y}<extra></extra>\",\"legendgroup\":\"Archaeoglobi\",\"marker\":{\"color\":\"#ab63fa\"},\"name\":\"Archaeoglobi\",\"notched\":false,\"offsetgroup\":\"Archaeoglobi\",\"orientation\":\"v\",\"showlegend\":true,\"x\":[\"Archaeoglobi\"],\"x0\":\" \",\"xaxis\":\"x\",\"y\":[1819.0],\"y0\":\" \",\"yaxis\":\"y\",\"type\":\"box\"},{\"alignmentgroup\":\"True\",\"hovertemplate\":\"SubGroup=%{x}<br>CDS=%{y}<extra></extra>\",\"legendgroup\":\"Blastocatellia\",\"marker\":{\"color\":\"#FFA15A\"},\"name\":\"Blastocatellia\",\"notched\":false,\"offsetgroup\":\"Blastocatellia\",\"orientation\":\"v\",\"showlegend\":true,\"x\":[\"Blastocatellia\"],\"x0\":\" \",\"xaxis\":\"x\",\"y\":[3063.0],\"y0\":\" \",\"yaxis\":\"y\",\"type\":\"box\"},{\"alignmentgroup\":\"True\",\"hovertemplate\":\"SubGroup=%{x}<br>CDS=%{y}<extra></extra>\",\"legendgroup\":\"Planctomycetes\",\"marker\":{\"color\":\"#19d3f3\"},\"name\":\"Planctomycetes\",\"notched\":false,\"offsetgroup\":\"Planctomycetes\",\"orientation\":\"v\",\"showlegend\":true,\"x\":[\"Planctomycetes\"],\"x0\":\" \",\"xaxis\":\"x\",\"y\":[3700.0],\"y0\":\" \",\"yaxis\":\"y\",\"type\":\"box\"},{\"alignmentgroup\":\"True\",\"hovertemplate\":\"SubGroup=%{x}<br>CDS=%{y}<extra></extra>\",\"legendgroup\":\"Crenarchaeota\",\"marker\":{\"color\":\"#FF6692\"},\"name\":\"Crenarchaeota\",\"notched\":false,\"offsetgroup\":\"Crenarchaeota\",\"orientation\":\"v\",\"showlegend\":true,\"x\":[\"Crenarchaeota\"],\"x0\":\" \",\"xaxis\":\"x\",\"y\":[2333.0],\"y0\":\" \",\"yaxis\":\"y\",\"type\":\"box\"}],                        {\"template\":{\"data\":{\"bar\":[{\"error_x\":{\"color\":\"#2a3f5f\"},\"error_y\":{\"color\":\"#2a3f5f\"},\"marker\":{\"line\":{\"color\":\"#E5ECF6\",\"width\":0.5},\"pattern\":{\"fillmode\":\"overlay\",\"size\":10,\"solidity\":0.2}},\"type\":\"bar\"}],\"barpolar\":[{\"marker\":{\"line\":{\"color\":\"#E5ECF6\",\"width\":0.5},\"pattern\":{\"fillmode\":\"overlay\",\"size\":10,\"solidity\":0.2}},\"type\":\"barpolar\"}],\"carpet\":[{\"aaxis\":{\"endlinecolor\":\"#2a3f5f\",\"gridcolor\":\"white\",\"linecolor\":\"white\",\"minorgridcolor\":\"white\",\"startlinecolor\":\"#2a3f5f\"},\"baxis\":{\"endlinecolor\":\"#2a3f5f\",\"gridcolor\":\"white\",\"linecolor\":\"white\",\"minorgridcolor\":\"white\",\"startlinecolor\":\"#2a3f5f\"},\"type\":\"carpet\"}],\"choropleth\":[{\"colorbar\":{\"outlinewidth\":0,\"ticks\":\"\"},\"type\":\"choropleth\"}],\"contour\":[{\"colorbar\":{\"outlinewidth\":0,\"ticks\":\"\"},\"colorscale\":[[0.0,\"#0d0887\"],[0.1111111111111111,\"#46039f\"],[0.2222222222222222,\"#7201a8\"],[0.3333333333333333,\"#9c179e\"],[0.4444444444444444,\"#bd3786\"],[0.5555555555555556,\"#d8576b\"],[0.6666666666666666,\"#ed7953\"],[0.7777777777777778,\"#fb9f3a\"],[0.8888888888888888,\"#fdca26\"],[1.0,\"#f0f921\"]],\"type\":\"contour\"}],\"contourcarpet\":[{\"colorbar\":{\"outlinewidth\":0,\"ticks\":\"\"},\"type\":\"contourcarpet\"}],\"heatmap\":[{\"colorbar\":{\"outlinewidth\":0,\"ticks\":\"\"},\"colorscale\":[[0.0,\"#0d0887\"],[0.1111111111111111,\"#46039f\"],[0.2222222222222222,\"#7201a8\"],[0.3333333333333333,\"#9c179e\"],[0.4444444444444444,\"#bd3786\"],[0.5555555555555556,\"#d8576b\"],[0.6666666666666666,\"#ed7953\"],[0.7777777777777778,\"#fb9f3a\"],[0.8888888888888888,\"#fdca26\"],[1.0,\"#f0f921\"]],\"type\":\"heatmap\"}],\"heatmapgl\":[{\"colorbar\":{\"outlinewidth\":0,\"ticks\":\"\"},\"colorscale\":[[0.0,\"#0d0887\"],[0.1111111111111111,\"#46039f\"],[0.2222222222222222,\"#7201a8\"],[0.3333333333333333,\"#9c179e\"],[0.4444444444444444,\"#bd3786\"],[0.5555555555555556,\"#d8576b\"],[0.6666666666666666,\"#ed7953\"],[0.7777777777777778,\"#fb9f3a\"],[0.8888888888888888,\"#fdca26\"],[1.0,\"#f0f921\"]],\"type\":\"heatmapgl\"}],\"histogram\":[{\"marker\":{\"pattern\":{\"fillmode\":\"overlay\",\"size\":10,\"solidity\":0.2}},\"type\":\"histogram\"}],\"histogram2d\":[{\"colorbar\":{\"outlinewidth\":0,\"ticks\":\"\"},\"colorscale\":[[0.0,\"#0d0887\"],[0.1111111111111111,\"#46039f\"],[0.2222222222222222,\"#7201a8\"],[0.3333333333333333,\"#9c179e\"],[0.4444444444444444,\"#bd3786\"],[0.5555555555555556,\"#d8576b\"],[0.6666666666666666,\"#ed7953\"],[0.7777777777777778,\"#fb9f3a\"],[0.8888888888888888,\"#fdca26\"],[1.0,\"#f0f921\"]],\"type\":\"histogram2d\"}],\"histogram2dcontour\":[{\"colorbar\":{\"outlinewidth\":0,\"ticks\":\"\"},\"colorscale\":[[0.0,\"#0d0887\"],[0.1111111111111111,\"#46039f\"],[0.2222222222222222,\"#7201a8\"],[0.3333333333333333,\"#9c179e\"],[0.4444444444444444,\"#bd3786\"],[0.5555555555555556,\"#d8576b\"],[0.6666666666666666,\"#ed7953\"],[0.7777777777777778,\"#fb9f3a\"],[0.8888888888888888,\"#fdca26\"],[1.0,\"#f0f921\"]],\"type\":\"histogram2dcontour\"}],\"mesh3d\":[{\"colorbar\":{\"outlinewidth\":0,\"ticks\":\"\"},\"type\":\"mesh3d\"}],\"parcoords\":[{\"line\":{\"colorbar\":{\"outlinewidth\":0,\"ticks\":\"\"}},\"type\":\"parcoords\"}],\"pie\":[{\"automargin\":true,\"type\":\"pie\"}],\"scatter\":[{\"marker\":{\"colorbar\":{\"outlinewidth\":0,\"ticks\":\"\"}},\"type\":\"scatter\"}],\"scatter3d\":[{\"line\":{\"colorbar\":{\"outlinewidth\":0,\"ticks\":\"\"}},\"marker\":{\"colorbar\":{\"outlinewidth\":0,\"ticks\":\"\"}},\"type\":\"scatter3d\"}],\"scattercarpet\":[{\"marker\":{\"colorbar\":{\"outlinewidth\":0,\"ticks\":\"\"}},\"type\":\"scattercarpet\"}],\"scattergeo\":[{\"marker\":{\"colorbar\":{\"outlinewidth\":0,\"ticks\":\"\"}},\"type\":\"scattergeo\"}],\"scattergl\":[{\"marker\":{\"colorbar\":{\"outlinewidth\":0,\"ticks\":\"\"}},\"type\":\"scattergl\"}],\"scattermapbox\":[{\"marker\":{\"colorbar\":{\"outlinewidth\":0,\"ticks\":\"\"}},\"type\":\"scattermapbox\"}],\"scatterpolar\":[{\"marker\":{\"colorbar\":{\"outlinewidth\":0,\"ticks\":\"\"}},\"type\":\"scatterpolar\"}],\"scatterpolargl\":[{\"marker\":{\"colorbar\":{\"outlinewidth\":0,\"ticks\":\"\"}},\"type\":\"scatterpolargl\"}],\"scatterternary\":[{\"marker\":{\"colorbar\":{\"outlinewidth\":0,\"ticks\":\"\"}},\"type\":\"scatterternary\"}],\"surface\":[{\"colorbar\":{\"outlinewidth\":0,\"ticks\":\"\"},\"colorscale\":[[0.0,\"#0d0887\"],[0.1111111111111111,\"#46039f\"],[0.2222222222222222,\"#7201a8\"],[0.3333333333333333,\"#9c179e\"],[0.4444444444444444,\"#bd3786\"],[0.5555555555555556,\"#d8576b\"],[0.6666666666666666,\"#ed7953\"],[0.7777777777777778,\"#fb9f3a\"],[0.8888888888888888,\"#fdca26\"],[1.0,\"#f0f921\"]],\"type\":\"surface\"}],\"table\":[{\"cells\":{\"fill\":{\"color\":\"#EBF0F8\"},\"line\":{\"color\":\"white\"}},\"header\":{\"fill\":{\"color\":\"#C8D4E3\"},\"line\":{\"color\":\"white\"}},\"type\":\"table\"}]},\"layout\":{\"annotationdefaults\":{\"arrowcolor\":\"#2a3f5f\",\"arrowhead\":0,\"arrowwidth\":1},\"autotypenumbers\":\"strict\",\"coloraxis\":{\"colorbar\":{\"outlinewidth\":0,\"ticks\":\"\"}},\"colorscale\":{\"diverging\":[[0,\"#8e0152\"],[0.1,\"#c51b7d\"],[0.2,\"#de77ae\"],[0.3,\"#f1b6da\"],[0.4,\"#fde0ef\"],[0.5,\"#f7f7f7\"],[0.6,\"#e6f5d0\"],[0.7,\"#b8e186\"],[0.8,\"#7fbc41\"],[0.9,\"#4d9221\"],[1,\"#276419\"]],\"sequential\":[[0.0,\"#0d0887\"],[0.1111111111111111,\"#46039f\"],[0.2222222222222222,\"#7201a8\"],[0.3333333333333333,\"#9c179e\"],[0.4444444444444444,\"#bd3786\"],[0.5555555555555556,\"#d8576b\"],[0.6666666666666666,\"#ed7953\"],[0.7777777777777778,\"#fb9f3a\"],[0.8888888888888888,\"#fdca26\"],[1.0,\"#f0f921\"]],\"sequentialminus\":[[0.0,\"#0d0887\"],[0.1111111111111111,\"#46039f\"],[0.2222222222222222,\"#7201a8\"],[0.3333333333333333,\"#9c179e\"],[0.4444444444444444,\"#bd3786\"],[0.5555555555555556,\"#d8576b\"],[0.6666666666666666,\"#ed7953\"],[0.7777777777777778,\"#fb9f3a\"],[0.8888888888888888,\"#fdca26\"],[1.0,\"#f0f921\"]]},\"colorway\":[\"#636efa\",\"#EF553B\",\"#00cc96\",\"#ab63fa\",\"#FFA15A\",\"#19d3f3\",\"#FF6692\",\"#B6E880\",\"#FF97FF\",\"#FECB52\"],\"font\":{\"color\":\"#2a3f5f\"},\"geo\":{\"bgcolor\":\"white\",\"lakecolor\":\"white\",\"landcolor\":\"#E5ECF6\",\"showlakes\":true,\"showland\":true,\"subunitcolor\":\"white\"},\"hoverlabel\":{\"align\":\"left\"},\"hovermode\":\"closest\",\"mapbox\":{\"style\":\"light\"},\"paper_bgcolor\":\"white\",\"plot_bgcolor\":\"#E5ECF6\",\"polar\":{\"angularaxis\":{\"gridcolor\":\"white\",\"linecolor\":\"white\",\"ticks\":\"\"},\"bgcolor\":\"#E5ECF6\",\"radialaxis\":{\"gridcolor\":\"white\",\"linecolor\":\"white\",\"ticks\":\"\"}},\"scene\":{\"xaxis\":{\"backgroundcolor\":\"#E5ECF6\",\"gridcolor\":\"white\",\"gridwidth\":2,\"linecolor\":\"white\",\"showbackground\":true,\"ticks\":\"\",\"zerolinecolor\":\"white\"},\"yaxis\":{\"backgroundcolor\":\"#E5ECF6\",\"gridcolor\":\"white\",\"gridwidth\":2,\"linecolor\":\"white\",\"showbackground\":true,\"ticks\":\"\",\"zerolinecolor\":\"white\"},\"zaxis\":{\"backgroundcolor\":\"#E5ECF6\",\"gridcolor\":\"white\",\"gridwidth\":2,\"linecolor\":\"white\",\"showbackground\":true,\"ticks\":\"\",\"zerolinecolor\":\"white\"}},\"shapedefaults\":{\"line\":{\"color\":\"#2a3f5f\"}},\"ternary\":{\"aaxis\":{\"gridcolor\":\"white\",\"linecolor\":\"white\",\"ticks\":\"\"},\"baxis\":{\"gridcolor\":\"white\",\"linecolor\":\"white\",\"ticks\":\"\"},\"bgcolor\":\"#E5ECF6\",\"caxis\":{\"gridcolor\":\"white\",\"linecolor\":\"white\",\"ticks\":\"\"}},\"title\":{\"x\":0.05},\"xaxis\":{\"automargin\":true,\"gridcolor\":\"white\",\"linecolor\":\"white\",\"ticks\":\"\",\"title\":{\"standoff\":15},\"zerolinecolor\":\"white\",\"zerolinewidth\":2},\"yaxis\":{\"automargin\":true,\"gridcolor\":\"white\",\"linecolor\":\"white\",\"ticks\":\"\",\"title\":{\"standoff\":15},\"zerolinecolor\":\"white\",\"zerolinewidth\":2}}},\"xaxis\":{\"anchor\":\"y\",\"domain\":[0.0,1.0],\"title\":{\"text\":\"SubGroup\"},\"categoryorder\":\"array\",\"categoryarray\":[\"Alphaproteobacteria\",\"delta/epsilon subdivisions\",\"Gammaproteobacteria\",\"Methanomada group\",\"Betaproteobacteria\",\"Firmicutes\",\"Actinobacteria\",\"Bacteroidetes/Chlorobi group\",\"Deinococcus-Thermus\",\"Chlamydiae\",\"Tenericutes\",\"Chloroflexi\",\"Caldiserica\",\"Stenosarchaea group\",\"Synergistia\",\"Deferribacteres\",\"Fusobacteriia\",\"Thaumarchaeota\",\"Bacteria candidate phyla\",\"Thermococci\",\"Cyanobacteria/Melainabacteria group\",\"Verrucomicrobia\",\"Spirochaetia\",\"Archaeoglobi\",\"Blastocatellia\",\"Planctomycetes\",\"Crenarchaeota\"]},\"yaxis\":{\"anchor\":\"x\",\"domain\":[0.0,1.0],\"title\":{\"text\":\"CDS\"}},\"legend\":{\"title\":{\"text\":\"SubGroup\"},\"tracegroupgap\":0},\"margin\":{\"t\":60},\"boxmode\":\"overlay\"},                        {\"responsive\": true}                    ).then(function(){\n",
       "                            \n",
       "var gd = document.getElementById('e279a0e0-9439-4462-84f0-aa9304539cf8');\n",
       "var x = new MutationObserver(function (mutations, observer) {{\n",
       "        var display = window.getComputedStyle(gd).display;\n",
       "        if (!display || display === 'none') {{\n",
       "            console.log([gd, 'removed!']);\n",
       "            Plotly.purge(gd);\n",
       "            observer.disconnect();\n",
       "        }}\n",
       "}});\n",
       "\n",
       "// Listen for the removal of the full notebook cells\n",
       "var notebookContainer = gd.closest('#notebook-container');\n",
       "if (notebookContainer) {{\n",
       "    x.observe(notebookContainer, {childList: true});\n",
       "}}\n",
       "\n",
       "// Listen for the clearing of the current output cell\n",
       "var outputEl = gd.closest('.output');\n",
       "if (outputEl) {{\n",
       "    x.observe(outputEl, {childList: true});\n",
       "}}\n",
       "\n",
       "                        })                };                });            </script>        </div>"
      ]
     },
     "metadata": {},
     "output_type": "display_data"
    }
   ],
   "source": [
    "# df_dum = pd.get_dummies(df)\n",
    "# scaler = StandardScaler()\n",
    "# scaler.fit(df_dum)\n",
    "# standard_embedding = umap.UMAP(random_state=42, n_neighbors=15, min_dist=0.1).fit_transform(df_dum)\n",
    "# df['x'] = standard_embedding[:,0]\n",
    "# df['y'] = standard_embedding[:,1]\n",
    "\n",
    "\n",
    "px.box(df, x='SubGroup', y='CDS',color='SubGroup')"
   ]
  },
  {
   "cell_type": "code",
   "execution_count": null,
   "id": "47098939",
   "metadata": {},
   "outputs": [],
   "source": []
  }
 ],
 "metadata": {
  "kernelspec": {
   "display_name": "Python 3 (ipykernel)",
   "language": "python",
   "name": "python3"
  },
  "language_info": {
   "codemirror_mode": {
    "name": "ipython",
    "version": 3
   },
   "file_extension": ".py",
   "mimetype": "text/x-python",
   "name": "python",
   "nbconvert_exporter": "python",
   "pygments_lexer": "ipython3",
   "version": "3.9.11"
  }
 },
 "nbformat": 4,
 "nbformat_minor": 5
}
